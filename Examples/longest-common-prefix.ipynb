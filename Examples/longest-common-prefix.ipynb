{
 "cells": [
  {
   "cell_type": "code",
   "execution_count": 103,
   "metadata": {},
   "outputs": [],
   "source": [
    "class Solution:\n",
    "    def longestCommonPrefix(self, strs: list) -> str:\n",
    "        check_rem = \"\"\n",
    "        num_check = len(strs)\n",
    "        dlugosc = len(strs[0])\n",
    "        if dlugosc != 0:\n",
    "            if num_check >= 2:\n",
    "                for i in range(dlugosc+1):\n",
    "                    check = strs[0][0:i+1]\n",
    "                    num_in = 0\n",
    "                    for j in strs[1:]:\n",
    "                        if check == j[0:len(check)]:\n",
    "                            num_in += 1\n",
    "                    if (num_in+1 < num_check):\n",
    "                        return check_rem\n",
    "                        break\n",
    "                    elif (i == dlugosc):\n",
    "                        return check\n",
    "                    else:\n",
    "                        check_rem = check\n",
    "            else:\n",
    "                return strs[0]\n",
    "        else:\n",
    "            return \"\""
   ]
  },
  {
   "cell_type": "code",
   "execution_count": 104,
   "metadata": {},
   "outputs": [
    {
     "data": {
      "text/plain": [
       "''"
      ]
     },
     "execution_count": 104,
     "metadata": {},
     "output_type": "execute_result"
    }
   ],
   "source": [
    "a = Solution()\n",
    "strs = [\"c\",\"acc\",\"ccc\"]\n",
    "a.longestCommonPrefix(strs)"
   ]
  },
  {
   "cell_type": "code",
   "execution_count": 105,
   "metadata": {},
   "outputs": [
    {
     "data": {
      "text/plain": [
       "'a'"
      ]
     },
     "execution_count": 105,
     "metadata": {},
     "output_type": "execute_result"
    }
   ],
   "source": [
    "a = Solution()\n",
    "strs = [\"a\"]\n",
    "a.longestCommonPrefix(strs)"
   ]
  },
  {
   "cell_type": "code",
   "execution_count": 106,
   "metadata": {},
   "outputs": [
    {
     "data": {
      "text/plain": [
       "'fl'"
      ]
     },
     "execution_count": 106,
     "metadata": {},
     "output_type": "execute_result"
    }
   ],
   "source": [
    "a = Solution()\n",
    "strs = [\"flower\",\"flow\",\"flight\"]\n",
    "a.longestCommonPrefix(strs)"
   ]
  },
  {
   "cell_type": "code",
   "execution_count": 107,
   "metadata": {},
   "outputs": [
    {
     "data": {
      "text/plain": [
       "'flower'"
      ]
     },
     "execution_count": 107,
     "metadata": {},
     "output_type": "execute_result"
    }
   ],
   "source": [
    "a = Solution()\n",
    "strs = [\"flower\",\"flower\",\"flower\",\"flower\"]\n",
    "a.longestCommonPrefix(strs)"
   ]
  },
  {
   "cell_type": "code",
   "execution_count": 111,
   "metadata": {},
   "outputs": [],
   "source": [
    "class Solution2:\n",
    "    def longestCommonPrefix2(self, strs: list) -> str:\n",
    "        pre = strs[0]\n",
    "        for i in strs:\n",
    "            while not i.startswith(pre):\n",
    "                pre = pre[:-1]\n",
    "        return pre"
   ]
  },
  {
   "cell_type": "code",
   "execution_count": 112,
   "metadata": {},
   "outputs": [
    {
     "data": {
      "text/plain": [
       "''"
      ]
     },
     "execution_count": 112,
     "metadata": {},
     "output_type": "execute_result"
    }
   ],
   "source": [
    "a = Solution2()\n",
    "strs = [\"c\",\"acc\",\"ccc\"]\n",
    "a.longestCommonPrefix2(strs)"
   ]
  },
  {
   "cell_type": "code",
   "execution_count": 113,
   "metadata": {},
   "outputs": [
    {
     "data": {
      "text/plain": [
       "'flower'"
      ]
     },
     "execution_count": 113,
     "metadata": {},
     "output_type": "execute_result"
    }
   ],
   "source": [
    "a = Solution()\n",
    "strs = [\"flower\",\"flower\",\"flower\",\"flower\"]\n",
    "a.longestCommonPrefix(strs)"
   ]
  },
  {
   "cell_type": "code",
   "execution_count": null,
   "metadata": {},
   "outputs": [],
   "source": []
  }
 ],
 "metadata": {
  "kernelspec": {
   "display_name": "base",
   "language": "python",
   "name": "python3"
  },
  "language_info": {
   "codemirror_mode": {
    "name": "ipython",
    "version": 3
   },
   "file_extension": ".py",
   "mimetype": "text/x-python",
   "name": "python",
   "nbconvert_exporter": "python",
   "pygments_lexer": "ipython3",
   "version": "3.8.3 (default, Jul  2 2020, 17:30:36) [MSC v.1916 64 bit (AMD64)]"
  },
  "orig_nbformat": 4,
  "vscode": {
   "interpreter": {
    "hash": "6b9b963872eec2b7e8ca0502d1ea1155c51a2f7935b2e860109232822e0fe34f"
   }
  }
 },
 "nbformat": 4,
 "nbformat_minor": 2
}
