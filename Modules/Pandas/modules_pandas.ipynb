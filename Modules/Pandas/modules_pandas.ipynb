{
 "cells": [
  {
   "cell_type": "code",
   "execution_count": 128,
   "metadata": {},
   "outputs": [],
   "source": [
    "import pandas as pd\n",
    "pd.set_option('max_rows', 5)\n",
    "import numpy as np\n",
    "\n",
    "reviews = pd.read_csv(\"data.csv\", index_col=0) "
   ]
  },
  {
   "attachments": {},
   "cell_type": "markdown",
   "metadata": {},
   "source": [
    "# DataFrames"
   ]
  },
  {
   "cell_type": "code",
   "execution_count": 4,
   "metadata": {},
   "outputs": [
    {
     "data": {
      "text/html": [
       "<div>\n",
       "<style scoped>\n",
       "    .dataframe tbody tr th:only-of-type {\n",
       "        vertical-align: middle;\n",
       "    }\n",
       "\n",
       "    .dataframe tbody tr th {\n",
       "        vertical-align: top;\n",
       "    }\n",
       "\n",
       "    .dataframe thead th {\n",
       "        text-align: right;\n",
       "    }\n",
       "</style>\n",
       "<table border=\"1\" class=\"dataframe\">\n",
       "  <thead>\n",
       "    <tr style=\"text-align: right;\">\n",
       "      <th></th>\n",
       "      <th>Yes</th>\n",
       "      <th>No</th>\n",
       "    </tr>\n",
       "  </thead>\n",
       "  <tbody>\n",
       "    <tr>\n",
       "      <th>0</th>\n",
       "      <td>50</td>\n",
       "      <td>131</td>\n",
       "    </tr>\n",
       "    <tr>\n",
       "      <th>1</th>\n",
       "      <td>21</td>\n",
       "      <td>2</td>\n",
       "    </tr>\n",
       "  </tbody>\n",
       "</table>\n",
       "</div>"
      ],
      "text/plain": [
       "   Yes   No\n",
       "0   50  131\n",
       "1   21    2"
      ]
     },
     "execution_count": 4,
     "metadata": {},
     "output_type": "execute_result"
    }
   ],
   "source": [
    "pd.DataFrame({\n",
    "    'Yes': [50,21],\n",
    "    'No': [131,2]\n",
    "})"
   ]
  },
  {
   "cell_type": "code",
   "execution_count": 5,
   "metadata": {},
   "outputs": [
    {
     "data": {
      "text/html": [
       "<div>\n",
       "<style scoped>\n",
       "    .dataframe tbody tr th:only-of-type {\n",
       "        vertical-align: middle;\n",
       "    }\n",
       "\n",
       "    .dataframe tbody tr th {\n",
       "        vertical-align: top;\n",
       "    }\n",
       "\n",
       "    .dataframe thead th {\n",
       "        text-align: right;\n",
       "    }\n",
       "</style>\n",
       "<table border=\"1\" class=\"dataframe\">\n",
       "  <thead>\n",
       "    <tr style=\"text-align: right;\">\n",
       "      <th></th>\n",
       "      <th>Bob</th>\n",
       "      <th>Sue</th>\n",
       "    </tr>\n",
       "  </thead>\n",
       "  <tbody>\n",
       "    <tr>\n",
       "      <th>0</th>\n",
       "      <td>I liked it.</td>\n",
       "      <td>Pretty good.</td>\n",
       "    </tr>\n",
       "    <tr>\n",
       "      <th>1</th>\n",
       "      <td>It was awful.</td>\n",
       "      <td>Bland.</td>\n",
       "    </tr>\n",
       "  </tbody>\n",
       "</table>\n",
       "</div>"
      ],
      "text/plain": [
       "             Bob           Sue\n",
       "0    I liked it.  Pretty good.\n",
       "1  It was awful.        Bland."
      ]
     },
     "execution_count": 5,
     "metadata": {},
     "output_type": "execute_result"
    }
   ],
   "source": [
    "pd.DataFrame({'Bob': ['I liked it.', 'It was awful.'], 'Sue': ['Pretty good.', 'Bland.']})"
   ]
  },
  {
   "cell_type": "code",
   "execution_count": 6,
   "metadata": {},
   "outputs": [
    {
     "data": {
      "text/html": [
       "<div>\n",
       "<style scoped>\n",
       "    .dataframe tbody tr th:only-of-type {\n",
       "        vertical-align: middle;\n",
       "    }\n",
       "\n",
       "    .dataframe tbody tr th {\n",
       "        vertical-align: top;\n",
       "    }\n",
       "\n",
       "    .dataframe thead th {\n",
       "        text-align: right;\n",
       "    }\n",
       "</style>\n",
       "<table border=\"1\" class=\"dataframe\">\n",
       "  <thead>\n",
       "    <tr style=\"text-align: right;\">\n",
       "      <th></th>\n",
       "      <th>Bob</th>\n",
       "      <th>Sue</th>\n",
       "    </tr>\n",
       "  </thead>\n",
       "  <tbody>\n",
       "    <tr>\n",
       "      <th>Product A</th>\n",
       "      <td>I liked it.</td>\n",
       "      <td>Pretty good.</td>\n",
       "    </tr>\n",
       "    <tr>\n",
       "      <th>Product B</th>\n",
       "      <td>It was awful.</td>\n",
       "      <td>Bland.</td>\n",
       "    </tr>\n",
       "  </tbody>\n",
       "</table>\n",
       "</div>"
      ],
      "text/plain": [
       "                     Bob           Sue\n",
       "Product A    I liked it.  Pretty good.\n",
       "Product B  It was awful.        Bland."
      ]
     },
     "execution_count": 6,
     "metadata": {},
     "output_type": "execute_result"
    }
   ],
   "source": [
    "pd.DataFrame({'Bob': ['I liked it.', 'It was awful.'], \n",
    "              'Sue': ['Pretty good.', 'Bland.']},\n",
    "             index=['Product A', 'Product B'])"
   ]
  },
  {
   "attachments": {},
   "cell_type": "markdown",
   "metadata": {},
   "source": [
    "# Data Series"
   ]
  },
  {
   "cell_type": "code",
   "execution_count": 10,
   "metadata": {},
   "outputs": [
    {
     "data": {
      "text/plain": [
       "0    1\n",
       "1    2\n",
       "2    3\n",
       "3    4\n",
       "4    5\n",
       "dtype: int64"
      ]
     },
     "execution_count": 10,
     "metadata": {},
     "output_type": "execute_result"
    }
   ],
   "source": [
    "pd.Series([1, 2, 3, 4, 5])"
   ]
  },
  {
   "cell_type": "code",
   "execution_count": 11,
   "metadata": {},
   "outputs": [
    {
     "data": {
      "text/plain": [
       "2015 Sales    30\n",
       "2016 Sales    35\n",
       "2017 Sales    40\n",
       "Name: Product A, dtype: int64"
      ]
     },
     "execution_count": 11,
     "metadata": {},
     "output_type": "execute_result"
    }
   ],
   "source": [
    "pd.Series([30, 35, 40], index=['2015 Sales', '2016 Sales', '2017 Sales'], name='Product A')"
   ]
  },
  {
   "attachments": {},
   "cell_type": "markdown",
   "metadata": {},
   "source": [
    "# Indexing"
   ]
  },
  {
   "cell_type": "code",
   "execution_count": 129,
   "metadata": {},
   "outputs": [
    {
     "data": {
      "text/html": [
       "<div>\n",
       "<style scoped>\n",
       "    .dataframe tbody tr th:only-of-type {\n",
       "        vertical-align: middle;\n",
       "    }\n",
       "\n",
       "    .dataframe tbody tr th {\n",
       "        vertical-align: top;\n",
       "    }\n",
       "\n",
       "    .dataframe thead th {\n",
       "        text-align: right;\n",
       "    }\n",
       "</style>\n",
       "<table border=\"1\" class=\"dataframe\">\n",
       "  <thead>\n",
       "    <tr style=\"text-align: right;\">\n",
       "      <th></th>\n",
       "      <th>country</th>\n",
       "      <th>description</th>\n",
       "      <th>designation</th>\n",
       "      <th>points</th>\n",
       "      <th>price</th>\n",
       "      <th>province</th>\n",
       "      <th>region_1</th>\n",
       "      <th>region_2</th>\n",
       "      <th>taster_name</th>\n",
       "      <th>taster_twitter_handle</th>\n",
       "      <th>title</th>\n",
       "      <th>variety</th>\n",
       "      <th>winery</th>\n",
       "      <th>New col</th>\n",
       "      <th>index_backwards</th>\n",
       "    </tr>\n",
       "  </thead>\n",
       "  <tbody>\n",
       "    <tr>\n",
       "      <th>0</th>\n",
       "      <td>Italy</td>\n",
       "      <td>Aromas include tropical fruit, broom, brimston...</td>\n",
       "      <td>Vulkà Bianco</td>\n",
       "      <td>87</td>\n",
       "      <td>NaN</td>\n",
       "      <td>Sicily &amp; Sardinia</td>\n",
       "      <td>Etna</td>\n",
       "      <td>NaN</td>\n",
       "      <td>Kerin O’Keefe</td>\n",
       "      <td>@kerinokeefe</td>\n",
       "      <td>Nicosia 2013 Vulkà Bianco  (Etna)</td>\n",
       "      <td>White Blend</td>\n",
       "      <td>Nicosia</td>\n",
       "      <td>1900</td>\n",
       "      <td>129971</td>\n",
       "    </tr>\n",
       "    <tr>\n",
       "      <th>1</th>\n",
       "      <td>Portugal</td>\n",
       "      <td>This is ripe and fruity, a wine that is smooth...</td>\n",
       "      <td>Avidagos</td>\n",
       "      <td>87</td>\n",
       "      <td>15.0</td>\n",
       "      <td>Douro</td>\n",
       "      <td>NaN</td>\n",
       "      <td>NaN</td>\n",
       "      <td>Roger Voss</td>\n",
       "      <td>@vossroger</td>\n",
       "      <td>Quinta dos Avidagos 2011 Avidagos Red (Douro)</td>\n",
       "      <td>Portuguese Red</td>\n",
       "      <td>Quinta dos Avidagos</td>\n",
       "      <td>1900</td>\n",
       "      <td>129970</td>\n",
       "    </tr>\n",
       "    <tr>\n",
       "      <th>...</th>\n",
       "      <td>...</td>\n",
       "      <td>...</td>\n",
       "      <td>...</td>\n",
       "      <td>...</td>\n",
       "      <td>...</td>\n",
       "      <td>...</td>\n",
       "      <td>...</td>\n",
       "      <td>...</td>\n",
       "      <td>...</td>\n",
       "      <td>...</td>\n",
       "      <td>...</td>\n",
       "      <td>...</td>\n",
       "      <td>...</td>\n",
       "      <td>...</td>\n",
       "      <td>...</td>\n",
       "    </tr>\n",
       "    <tr>\n",
       "      <th>9998</th>\n",
       "      <td>US</td>\n",
       "      <td>It's interesting and a little odd that this 10...</td>\n",
       "      <td>To Kalon Vineyard I Block</td>\n",
       "      <td>91</td>\n",
       "      <td>75.0</td>\n",
       "      <td>California</td>\n",
       "      <td>Oakville</td>\n",
       "      <td>Napa</td>\n",
       "      <td>NaN</td>\n",
       "      <td>NaN</td>\n",
       "      <td>Robert Mondavi 2010 To Kalon Vineyard I Block ...</td>\n",
       "      <td>Fumé Blanc</td>\n",
       "      <td>Robert Mondavi</td>\n",
       "      <td>1900</td>\n",
       "      <td>119973</td>\n",
       "    </tr>\n",
       "    <tr>\n",
       "      <th>9999</th>\n",
       "      <td>France</td>\n",
       "      <td>As befits a single vineyard Gevrey Chambertin,...</td>\n",
       "      <td>Les Evocelles</td>\n",
       "      <td>91</td>\n",
       "      <td>52.0</td>\n",
       "      <td>Burgundy</td>\n",
       "      <td>Gevrey-Chambertin</td>\n",
       "      <td>NaN</td>\n",
       "      <td>Roger Voss</td>\n",
       "      <td>@vossroger</td>\n",
       "      <td>Henri de Villamont 2010 Les Evocelles  (Gevrey...</td>\n",
       "      <td>Pinot Noir</td>\n",
       "      <td>Henri de Villamont</td>\n",
       "      <td>1900</td>\n",
       "      <td>119972</td>\n",
       "    </tr>\n",
       "  </tbody>\n",
       "</table>\n",
       "<p>10000 rows × 15 columns</p>\n",
       "</div>"
      ],
      "text/plain": [
       "       country                                        description  \\\n",
       "0        Italy  Aromas include tropical fruit, broom, brimston...   \n",
       "1     Portugal  This is ripe and fruity, a wine that is smooth...   \n",
       "...        ...                                                ...   \n",
       "9998        US  It's interesting and a little odd that this 10...   \n",
       "9999    France  As befits a single vineyard Gevrey Chambertin,...   \n",
       "\n",
       "                    designation  points  price           province  \\\n",
       "0                  Vulkà Bianco      87    NaN  Sicily & Sardinia   \n",
       "1                      Avidagos      87   15.0              Douro   \n",
       "...                         ...     ...    ...                ...   \n",
       "9998  To Kalon Vineyard I Block      91   75.0         California   \n",
       "9999              Les Evocelles      91   52.0           Burgundy   \n",
       "\n",
       "               region_1 region_2    taster_name taster_twitter_handle  \\\n",
       "0                  Etna      NaN  Kerin O’Keefe          @kerinokeefe   \n",
       "1                   NaN      NaN     Roger Voss            @vossroger   \n",
       "...                 ...      ...            ...                   ...   \n",
       "9998           Oakville     Napa            NaN                   NaN   \n",
       "9999  Gevrey-Chambertin      NaN     Roger Voss            @vossroger   \n",
       "\n",
       "                                                  title         variety  \\\n",
       "0                     Nicosia 2013 Vulkà Bianco  (Etna)     White Blend   \n",
       "1         Quinta dos Avidagos 2011 Avidagos Red (Douro)  Portuguese Red   \n",
       "...                                                 ...             ...   \n",
       "9998  Robert Mondavi 2010 To Kalon Vineyard I Block ...      Fumé Blanc   \n",
       "9999  Henri de Villamont 2010 Les Evocelles  (Gevrey...      Pinot Noir   \n",
       "\n",
       "                   winery  New col  index_backwards  \n",
       "0                 Nicosia     1900           129971  \n",
       "1     Quinta dos Avidagos     1900           129970  \n",
       "...                   ...      ...              ...  \n",
       "9998       Robert Mondavi     1900           119973  \n",
       "9999   Henri de Villamont     1900           119972  \n",
       "\n",
       "[10000 rows x 15 columns]"
      ]
     },
     "execution_count": 129,
     "metadata": {},
     "output_type": "execute_result"
    }
   ],
   "source": [
    "reviews"
   ]
  },
  {
   "cell_type": "code",
   "execution_count": 51,
   "metadata": {},
   "outputs": [
    {
     "data": {
      "text/plain": [
       "0          Italy\n",
       "1       Portugal\n",
       "          ...   \n",
       "9998          US\n",
       "9999      France\n",
       "Name: country, Length: 10000, dtype: object"
      ]
     },
     "execution_count": 51,
     "metadata": {},
     "output_type": "execute_result"
    }
   ],
   "source": [
    "reviews.country"
   ]
  },
  {
   "cell_type": "code",
   "execution_count": 52,
   "metadata": {},
   "outputs": [
    {
     "data": {
      "text/plain": [
       "0          Italy\n",
       "1       Portugal\n",
       "          ...   \n",
       "9998          US\n",
       "9999      France\n",
       "Name: country, Length: 10000, dtype: object"
      ]
     },
     "execution_count": 52,
     "metadata": {},
     "output_type": "execute_result"
    }
   ],
   "source": [
    "reviews['country']"
   ]
  },
  {
   "attachments": {},
   "cell_type": "markdown",
   "metadata": {},
   "source": [
    "# Index-based selection"
   ]
  },
  {
   "cell_type": "code",
   "execution_count": 53,
   "metadata": {},
   "outputs": [
    {
     "data": {
      "text/plain": [
       "country                                                        Italy\n",
       "description        Aromas include tropical fruit, broom, brimston...\n",
       "                                         ...                        \n",
       "New col                                                         1900\n",
       "index_backwards                                               129971\n",
       "Name: 0, Length: 15, dtype: object"
      ]
     },
     "execution_count": 53,
     "metadata": {},
     "output_type": "execute_result"
    }
   ],
   "source": [
    "# first row\n",
    "reviews.iloc[0]"
   ]
  },
  {
   "cell_type": "code",
   "execution_count": 54,
   "metadata": {},
   "outputs": [
    {
     "data": {
      "text/plain": [
       "0          Italy\n",
       "1       Portugal\n",
       "          ...   \n",
       "9998          US\n",
       "9999      France\n",
       "Name: country, Length: 10000, dtype: object"
      ]
     },
     "execution_count": 54,
     "metadata": {},
     "output_type": "execute_result"
    }
   ],
   "source": [
    "# first column\n",
    "reviews.iloc[:,0]"
   ]
  },
  {
   "cell_type": "code",
   "execution_count": 55,
   "metadata": {},
   "outputs": [
    {
     "data": {
      "text/plain": [
       "0       Italy\n",
       "1    Portugal\n",
       "2          US\n",
       "Name: country, dtype: object"
      ]
     },
     "execution_count": 55,
     "metadata": {},
     "output_type": "execute_result"
    }
   ],
   "source": [
    "# three rows, first column\n",
    "reviews.iloc[:3,0]"
   ]
  },
  {
   "cell_type": "code",
   "execution_count": 56,
   "metadata": {},
   "outputs": [
    {
     "data": {
      "text/plain": [
       "1    Portugal\n",
       "2          US\n",
       "Name: country, dtype: object"
      ]
     },
     "execution_count": 56,
     "metadata": {},
     "output_type": "execute_result"
    }
   ],
   "source": [
    "reviews.iloc[1:3, 0]"
   ]
  },
  {
   "cell_type": "code",
   "execution_count": 57,
   "metadata": {},
   "outputs": [
    {
     "data": {
      "text/html": [
       "<div>\n",
       "<style scoped>\n",
       "    .dataframe tbody tr th:only-of-type {\n",
       "        vertical-align: middle;\n",
       "    }\n",
       "\n",
       "    .dataframe tbody tr th {\n",
       "        vertical-align: top;\n",
       "    }\n",
       "\n",
       "    .dataframe thead th {\n",
       "        text-align: right;\n",
       "    }\n",
       "</style>\n",
       "<table border=\"1\" class=\"dataframe\">\n",
       "  <thead>\n",
       "    <tr style=\"text-align: right;\">\n",
       "      <th></th>\n",
       "      <th>country</th>\n",
       "      <th>description</th>\n",
       "      <th>designation</th>\n",
       "    </tr>\n",
       "  </thead>\n",
       "  <tbody>\n",
       "    <tr>\n",
       "      <th>0</th>\n",
       "      <td>Italy</td>\n",
       "      <td>Aromas include tropical fruit, broom, brimston...</td>\n",
       "      <td>Vulkà Bianco</td>\n",
       "    </tr>\n",
       "    <tr>\n",
       "      <th>1</th>\n",
       "      <td>Portugal</td>\n",
       "      <td>This is ripe and fruity, a wine that is smooth...</td>\n",
       "      <td>Avidagos</td>\n",
       "    </tr>\n",
       "    <tr>\n",
       "      <th>2</th>\n",
       "      <td>US</td>\n",
       "      <td>Tart and snappy, the flavors of lime flesh and...</td>\n",
       "      <td>NaN</td>\n",
       "    </tr>\n",
       "  </tbody>\n",
       "</table>\n",
       "</div>"
      ],
      "text/plain": [
       "    country                                        description   designation\n",
       "0     Italy  Aromas include tropical fruit, broom, brimston...  Vulkà Bianco\n",
       "1  Portugal  This is ripe and fruity, a wine that is smooth...      Avidagos\n",
       "2        US  Tart and snappy, the flavors of lime flesh and...           NaN"
      ]
     },
     "execution_count": 57,
     "metadata": {},
     "output_type": "execute_result"
    }
   ],
   "source": [
    "reviews.iloc[[0, 1, 2], [0, 1, 2]]"
   ]
  },
  {
   "cell_type": "code",
   "execution_count": 58,
   "metadata": {},
   "outputs": [
    {
     "data": {
      "text/html": [
       "<div>\n",
       "<style scoped>\n",
       "    .dataframe tbody tr th:only-of-type {\n",
       "        vertical-align: middle;\n",
       "    }\n",
       "\n",
       "    .dataframe tbody tr th {\n",
       "        vertical-align: top;\n",
       "    }\n",
       "\n",
       "    .dataframe thead th {\n",
       "        text-align: right;\n",
       "    }\n",
       "</style>\n",
       "<table border=\"1\" class=\"dataframe\">\n",
       "  <thead>\n",
       "    <tr style=\"text-align: right;\">\n",
       "      <th></th>\n",
       "      <th>country</th>\n",
       "      <th>description</th>\n",
       "      <th>designation</th>\n",
       "      <th>points</th>\n",
       "      <th>price</th>\n",
       "      <th>province</th>\n",
       "      <th>region_1</th>\n",
       "      <th>region_2</th>\n",
       "      <th>taster_name</th>\n",
       "      <th>taster_twitter_handle</th>\n",
       "      <th>title</th>\n",
       "      <th>variety</th>\n",
       "      <th>winery</th>\n",
       "      <th>New col</th>\n",
       "      <th>index_backwards</th>\n",
       "    </tr>\n",
       "  </thead>\n",
       "  <tbody>\n",
       "    <tr>\n",
       "      <th>9995</th>\n",
       "      <td>US</td>\n",
       "      <td>Comes from a little-understood part of the spr...</td>\n",
       "      <td>Griffin's Lair</td>\n",
       "      <td>89</td>\n",
       "      <td>46.0</td>\n",
       "      <td>California</td>\n",
       "      <td>Sonoma Coast</td>\n",
       "      <td>Sonoma</td>\n",
       "      <td>NaN</td>\n",
       "      <td>NaN</td>\n",
       "      <td>Roessler 2008 Griffin's Lair Pinot Noir (Sonom...</td>\n",
       "      <td>Pinot Noir</td>\n",
       "      <td>Roessler</td>\n",
       "      <td>1900</td>\n",
       "      <td>119976</td>\n",
       "    </tr>\n",
       "    <tr>\n",
       "      <th>9996</th>\n",
       "      <td>US</td>\n",
       "      <td>Smoky and savory, with sharp acidity under bla...</td>\n",
       "      <td>NaN</td>\n",
       "      <td>89</td>\n",
       "      <td>22.0</td>\n",
       "      <td>Washington</td>\n",
       "      <td>Columbia Valley (WA)</td>\n",
       "      <td>Columbia Valley</td>\n",
       "      <td>Paul Gregutt</td>\n",
       "      <td>@paulgwine</td>\n",
       "      <td>Seven Hills 2007 Tempranillo (Columbia Valley ...</td>\n",
       "      <td>Tempranillo</td>\n",
       "      <td>Seven Hills</td>\n",
       "      <td>1900</td>\n",
       "      <td>119975</td>\n",
       "    </tr>\n",
       "    <tr>\n",
       "      <th>9997</th>\n",
       "      <td>France</td>\n",
       "      <td>The style at Domaines Ott has changed to becom...</td>\n",
       "      <td>Château de Selle</td>\n",
       "      <td>89</td>\n",
       "      <td>43.0</td>\n",
       "      <td>Provence</td>\n",
       "      <td>Côtes de Provence</td>\n",
       "      <td>NaN</td>\n",
       "      <td>Roger Voss</td>\n",
       "      <td>@vossroger</td>\n",
       "      <td>Domaines Ott 2009 Château de Selle Rosé (Côtes...</td>\n",
       "      <td>Rosé</td>\n",
       "      <td>Domaines Ott</td>\n",
       "      <td>1900</td>\n",
       "      <td>119974</td>\n",
       "    </tr>\n",
       "    <tr>\n",
       "      <th>9998</th>\n",
       "      <td>US</td>\n",
       "      <td>It's interesting and a little odd that this 10...</td>\n",
       "      <td>To Kalon Vineyard I Block</td>\n",
       "      <td>91</td>\n",
       "      <td>75.0</td>\n",
       "      <td>California</td>\n",
       "      <td>Oakville</td>\n",
       "      <td>Napa</td>\n",
       "      <td>NaN</td>\n",
       "      <td>NaN</td>\n",
       "      <td>Robert Mondavi 2010 To Kalon Vineyard I Block ...</td>\n",
       "      <td>Fumé Blanc</td>\n",
       "      <td>Robert Mondavi</td>\n",
       "      <td>1900</td>\n",
       "      <td>119973</td>\n",
       "    </tr>\n",
       "    <tr>\n",
       "      <th>9999</th>\n",
       "      <td>France</td>\n",
       "      <td>As befits a single vineyard Gevrey Chambertin,...</td>\n",
       "      <td>Les Evocelles</td>\n",
       "      <td>91</td>\n",
       "      <td>52.0</td>\n",
       "      <td>Burgundy</td>\n",
       "      <td>Gevrey-Chambertin</td>\n",
       "      <td>NaN</td>\n",
       "      <td>Roger Voss</td>\n",
       "      <td>@vossroger</td>\n",
       "      <td>Henri de Villamont 2010 Les Evocelles  (Gevrey...</td>\n",
       "      <td>Pinot Noir</td>\n",
       "      <td>Henri de Villamont</td>\n",
       "      <td>1900</td>\n",
       "      <td>119972</td>\n",
       "    </tr>\n",
       "  </tbody>\n",
       "</table>\n",
       "</div>"
      ],
      "text/plain": [
       "     country                                        description  \\\n",
       "9995      US  Comes from a little-understood part of the spr...   \n",
       "9996      US  Smoky and savory, with sharp acidity under bla...   \n",
       "9997  France  The style at Domaines Ott has changed to becom...   \n",
       "9998      US  It's interesting and a little odd that this 10...   \n",
       "9999  France  As befits a single vineyard Gevrey Chambertin,...   \n",
       "\n",
       "                    designation  points  price    province  \\\n",
       "9995             Griffin's Lair      89   46.0  California   \n",
       "9996                        NaN      89   22.0  Washington   \n",
       "9997           Château de Selle      89   43.0    Provence   \n",
       "9998  To Kalon Vineyard I Block      91   75.0  California   \n",
       "9999              Les Evocelles      91   52.0    Burgundy   \n",
       "\n",
       "                  region_1         region_2   taster_name  \\\n",
       "9995          Sonoma Coast           Sonoma           NaN   \n",
       "9996  Columbia Valley (WA)  Columbia Valley  Paul Gregutt   \n",
       "9997     Côtes de Provence              NaN    Roger Voss   \n",
       "9998              Oakville             Napa           NaN   \n",
       "9999     Gevrey-Chambertin              NaN    Roger Voss   \n",
       "\n",
       "     taster_twitter_handle                                              title  \\\n",
       "9995                   NaN  Roessler 2008 Griffin's Lair Pinot Noir (Sonom...   \n",
       "9996           @paulgwine   Seven Hills 2007 Tempranillo (Columbia Valley ...   \n",
       "9997            @vossroger  Domaines Ott 2009 Château de Selle Rosé (Côtes...   \n",
       "9998                   NaN  Robert Mondavi 2010 To Kalon Vineyard I Block ...   \n",
       "9999            @vossroger  Henri de Villamont 2010 Les Evocelles  (Gevrey...   \n",
       "\n",
       "          variety              winery  New col  index_backwards  \n",
       "9995   Pinot Noir            Roessler     1900           119976  \n",
       "9996  Tempranillo         Seven Hills     1900           119975  \n",
       "9997         Rosé        Domaines Ott     1900           119974  \n",
       "9998   Fumé Blanc      Robert Mondavi     1900           119973  \n",
       "9999   Pinot Noir  Henri de Villamont     1900           119972  "
      ]
     },
     "execution_count": 58,
     "metadata": {},
     "output_type": "execute_result"
    }
   ],
   "source": [
    "reviews.iloc[-5:]"
   ]
  },
  {
   "attachments": {},
   "cell_type": "markdown",
   "metadata": {},
   "source": [
    "# Label-based selection"
   ]
  },
  {
   "cell_type": "code",
   "execution_count": 59,
   "metadata": {},
   "outputs": [
    {
     "data": {
      "text/plain": [
       "'Italy'"
      ]
     },
     "execution_count": 59,
     "metadata": {},
     "output_type": "execute_result"
    }
   ],
   "source": [
    "reviews.loc[0, 'country']"
   ]
  },
  {
   "cell_type": "code",
   "execution_count": 60,
   "metadata": {},
   "outputs": [
    {
     "data": {
      "text/html": [
       "<div>\n",
       "<style scoped>\n",
       "    .dataframe tbody tr th:only-of-type {\n",
       "        vertical-align: middle;\n",
       "    }\n",
       "\n",
       "    .dataframe tbody tr th {\n",
       "        vertical-align: top;\n",
       "    }\n",
       "\n",
       "    .dataframe thead th {\n",
       "        text-align: right;\n",
       "    }\n",
       "</style>\n",
       "<table border=\"1\" class=\"dataframe\">\n",
       "  <thead>\n",
       "    <tr style=\"text-align: right;\">\n",
       "      <th></th>\n",
       "      <th>country</th>\n",
       "      <th>points</th>\n",
       "      <th>price</th>\n",
       "    </tr>\n",
       "  </thead>\n",
       "  <tbody>\n",
       "    <tr>\n",
       "      <th>0</th>\n",
       "      <td>Italy</td>\n",
       "      <td>87</td>\n",
       "      <td>NaN</td>\n",
       "    </tr>\n",
       "    <tr>\n",
       "      <th>1</th>\n",
       "      <td>Portugal</td>\n",
       "      <td>87</td>\n",
       "      <td>15.0</td>\n",
       "    </tr>\n",
       "    <tr>\n",
       "      <th>...</th>\n",
       "      <td>...</td>\n",
       "      <td>...</td>\n",
       "      <td>...</td>\n",
       "    </tr>\n",
       "    <tr>\n",
       "      <th>9998</th>\n",
       "      <td>US</td>\n",
       "      <td>91</td>\n",
       "      <td>75.0</td>\n",
       "    </tr>\n",
       "    <tr>\n",
       "      <th>9999</th>\n",
       "      <td>France</td>\n",
       "      <td>91</td>\n",
       "      <td>52.0</td>\n",
       "    </tr>\n",
       "  </tbody>\n",
       "</table>\n",
       "<p>10000 rows × 3 columns</p>\n",
       "</div>"
      ],
      "text/plain": [
       "       country  points  price\n",
       "0        Italy      87    NaN\n",
       "1     Portugal      87   15.0\n",
       "...        ...     ...    ...\n",
       "9998        US      91   75.0\n",
       "9999    France      91   52.0\n",
       "\n",
       "[10000 rows x 3 columns]"
      ]
     },
     "execution_count": 60,
     "metadata": {},
     "output_type": "execute_result"
    }
   ],
   "source": [
    "reviews.loc[:,['country','points','price']]"
   ]
  },
  {
   "attachments": {},
   "cell_type": "markdown",
   "metadata": {},
   "source": [
    "# Conditional selection"
   ]
  },
  {
   "cell_type": "code",
   "execution_count": 61,
   "metadata": {},
   "outputs": [
    {
     "data": {
      "text/html": [
       "<div>\n",
       "<style scoped>\n",
       "    .dataframe tbody tr th:only-of-type {\n",
       "        vertical-align: middle;\n",
       "    }\n",
       "\n",
       "    .dataframe tbody tr th {\n",
       "        vertical-align: top;\n",
       "    }\n",
       "\n",
       "    .dataframe thead th {\n",
       "        text-align: right;\n",
       "    }\n",
       "</style>\n",
       "<table border=\"1\" class=\"dataframe\">\n",
       "  <thead>\n",
       "    <tr style=\"text-align: right;\">\n",
       "      <th></th>\n",
       "      <th>country</th>\n",
       "      <th>description</th>\n",
       "      <th>designation</th>\n",
       "      <th>points</th>\n",
       "      <th>price</th>\n",
       "      <th>province</th>\n",
       "      <th>region_1</th>\n",
       "      <th>region_2</th>\n",
       "      <th>taster_name</th>\n",
       "      <th>taster_twitter_handle</th>\n",
       "      <th>title</th>\n",
       "      <th>variety</th>\n",
       "      <th>winery</th>\n",
       "      <th>New col</th>\n",
       "      <th>index_backwards</th>\n",
       "    </tr>\n",
       "  </thead>\n",
       "  <tbody>\n",
       "    <tr>\n",
       "      <th>0</th>\n",
       "      <td>Italy</td>\n",
       "      <td>Aromas include tropical fruit, broom, brimston...</td>\n",
       "      <td>Vulkà Bianco</td>\n",
       "      <td>87</td>\n",
       "      <td>NaN</td>\n",
       "      <td>Sicily &amp; Sardinia</td>\n",
       "      <td>Etna</td>\n",
       "      <td>NaN</td>\n",
       "      <td>Kerin O’Keefe</td>\n",
       "      <td>@kerinokeefe</td>\n",
       "      <td>Nicosia 2013 Vulkà Bianco  (Etna)</td>\n",
       "      <td>White Blend</td>\n",
       "      <td>Nicosia</td>\n",
       "      <td>1900</td>\n",
       "      <td>129971</td>\n",
       "    </tr>\n",
       "    <tr>\n",
       "      <th>6</th>\n",
       "      <td>Italy</td>\n",
       "      <td>Here's a bright, informal red that opens with ...</td>\n",
       "      <td>Belsito</td>\n",
       "      <td>87</td>\n",
       "      <td>16.0</td>\n",
       "      <td>Sicily &amp; Sardinia</td>\n",
       "      <td>Vittoria</td>\n",
       "      <td>NaN</td>\n",
       "      <td>Kerin O’Keefe</td>\n",
       "      <td>@kerinokeefe</td>\n",
       "      <td>Terre di Giurfo 2013 Belsito Frappato (Vittoria)</td>\n",
       "      <td>Frappato</td>\n",
       "      <td>Terre di Giurfo</td>\n",
       "      <td>1900</td>\n",
       "      <td>129965</td>\n",
       "    </tr>\n",
       "    <tr>\n",
       "      <th>...</th>\n",
       "      <td>...</td>\n",
       "      <td>...</td>\n",
       "      <td>...</td>\n",
       "      <td>...</td>\n",
       "      <td>...</td>\n",
       "      <td>...</td>\n",
       "      <td>...</td>\n",
       "      <td>...</td>\n",
       "      <td>...</td>\n",
       "      <td>...</td>\n",
       "      <td>...</td>\n",
       "      <td>...</td>\n",
       "      <td>...</td>\n",
       "      <td>...</td>\n",
       "      <td>...</td>\n",
       "    </tr>\n",
       "    <tr>\n",
       "      <th>9988</th>\n",
       "      <td>Italy</td>\n",
       "      <td>Thick, black and extracted, this dense Barbera...</td>\n",
       "      <td>Del Beneficio</td>\n",
       "      <td>89</td>\n",
       "      <td>NaN</td>\n",
       "      <td>Piedmont</td>\n",
       "      <td>Barbera d'Asti Superiore</td>\n",
       "      <td>NaN</td>\n",
       "      <td>NaN</td>\n",
       "      <td>NaN</td>\n",
       "      <td>Castello di Razzano 2007 Del Beneficio  (Barbe...</td>\n",
       "      <td>Barbera</td>\n",
       "      <td>Castello di Razzano</td>\n",
       "      <td>1900</td>\n",
       "      <td>119983</td>\n",
       "    </tr>\n",
       "    <tr>\n",
       "      <th>9989</th>\n",
       "      <td>Italy</td>\n",
       "      <td>Pretty coffee notes are offset by ripe aromas ...</td>\n",
       "      <td>La Tota</td>\n",
       "      <td>89</td>\n",
       "      <td>28.0</td>\n",
       "      <td>Piedmont</td>\n",
       "      <td>Barbera d'Asti</td>\n",
       "      <td>NaN</td>\n",
       "      <td>NaN</td>\n",
       "      <td>NaN</td>\n",
       "      <td>Marchesi Alfieri 2007 La Tota  (Barbera d'Asti)</td>\n",
       "      <td>Barbera</td>\n",
       "      <td>Marchesi Alfieri</td>\n",
       "      <td>1900</td>\n",
       "      <td>119982</td>\n",
       "    </tr>\n",
       "  </tbody>\n",
       "</table>\n",
       "<p>1546 rows × 15 columns</p>\n",
       "</div>"
      ],
      "text/plain": [
       "     country                                        description  \\\n",
       "0      Italy  Aromas include tropical fruit, broom, brimston...   \n",
       "6      Italy  Here's a bright, informal red that opens with ...   \n",
       "...      ...                                                ...   \n",
       "9988   Italy  Thick, black and extracted, this dense Barbera...   \n",
       "9989   Italy  Pretty coffee notes are offset by ripe aromas ...   \n",
       "\n",
       "        designation  points  price           province  \\\n",
       "0      Vulkà Bianco      87    NaN  Sicily & Sardinia   \n",
       "6           Belsito      87   16.0  Sicily & Sardinia   \n",
       "...             ...     ...    ...                ...   \n",
       "9988  Del Beneficio      89    NaN           Piedmont   \n",
       "9989        La Tota      89   28.0           Piedmont   \n",
       "\n",
       "                      region_1 region_2    taster_name taster_twitter_handle  \\\n",
       "0                         Etna      NaN  Kerin O’Keefe          @kerinokeefe   \n",
       "6                     Vittoria      NaN  Kerin O’Keefe          @kerinokeefe   \n",
       "...                        ...      ...            ...                   ...   \n",
       "9988  Barbera d'Asti Superiore      NaN            NaN                   NaN   \n",
       "9989            Barbera d'Asti      NaN            NaN                   NaN   \n",
       "\n",
       "                                                  title      variety  \\\n",
       "0                     Nicosia 2013 Vulkà Bianco  (Etna)  White Blend   \n",
       "6      Terre di Giurfo 2013 Belsito Frappato (Vittoria)     Frappato   \n",
       "...                                                 ...          ...   \n",
       "9988  Castello di Razzano 2007 Del Beneficio  (Barbe...      Barbera   \n",
       "9989    Marchesi Alfieri 2007 La Tota  (Barbera d'Asti)      Barbera   \n",
       "\n",
       "                   winery  New col  index_backwards  \n",
       "0                 Nicosia     1900           129971  \n",
       "6         Terre di Giurfo     1900           129965  \n",
       "...                   ...      ...              ...  \n",
       "9988  Castello di Razzano     1900           119983  \n",
       "9989     Marchesi Alfieri     1900           119982  \n",
       "\n",
       "[1546 rows x 15 columns]"
      ]
     },
     "execution_count": 61,
     "metadata": {},
     "output_type": "execute_result"
    }
   ],
   "source": [
    "reviews.loc[reviews.country == 'Italy']"
   ]
  },
  {
   "cell_type": "code",
   "execution_count": 62,
   "metadata": {},
   "outputs": [
    {
     "data": {
      "text/html": [
       "<div>\n",
       "<style scoped>\n",
       "    .dataframe tbody tr th:only-of-type {\n",
       "        vertical-align: middle;\n",
       "    }\n",
       "\n",
       "    .dataframe tbody tr th {\n",
       "        vertical-align: top;\n",
       "    }\n",
       "\n",
       "    .dataframe thead th {\n",
       "        text-align: right;\n",
       "    }\n",
       "</style>\n",
       "<table border=\"1\" class=\"dataframe\">\n",
       "  <thead>\n",
       "    <tr style=\"text-align: right;\">\n",
       "      <th></th>\n",
       "      <th>country</th>\n",
       "      <th>description</th>\n",
       "      <th>designation</th>\n",
       "      <th>points</th>\n",
       "      <th>price</th>\n",
       "      <th>province</th>\n",
       "      <th>region_1</th>\n",
       "      <th>region_2</th>\n",
       "      <th>taster_name</th>\n",
       "      <th>taster_twitter_handle</th>\n",
       "      <th>title</th>\n",
       "      <th>variety</th>\n",
       "      <th>winery</th>\n",
       "      <th>New col</th>\n",
       "      <th>index_backwards</th>\n",
       "    </tr>\n",
       "  </thead>\n",
       "  <tbody>\n",
       "    <tr>\n",
       "      <th>0</th>\n",
       "      <td>Italy</td>\n",
       "      <td>Aromas include tropical fruit, broom, brimston...</td>\n",
       "      <td>Vulkà Bianco</td>\n",
       "      <td>87</td>\n",
       "      <td>NaN</td>\n",
       "      <td>Sicily &amp; Sardinia</td>\n",
       "      <td>Etna</td>\n",
       "      <td>NaN</td>\n",
       "      <td>Kerin O’Keefe</td>\n",
       "      <td>@kerinokeefe</td>\n",
       "      <td>Nicosia 2013 Vulkà Bianco  (Etna)</td>\n",
       "      <td>White Blend</td>\n",
       "      <td>Nicosia</td>\n",
       "      <td>1900</td>\n",
       "      <td>129971</td>\n",
       "    </tr>\n",
       "    <tr>\n",
       "      <th>6</th>\n",
       "      <td>Italy</td>\n",
       "      <td>Here's a bright, informal red that opens with ...</td>\n",
       "      <td>Belsito</td>\n",
       "      <td>87</td>\n",
       "      <td>16.0</td>\n",
       "      <td>Sicily &amp; Sardinia</td>\n",
       "      <td>Vittoria</td>\n",
       "      <td>NaN</td>\n",
       "      <td>Kerin O’Keefe</td>\n",
       "      <td>@kerinokeefe</td>\n",
       "      <td>Terre di Giurfo 2013 Belsito Frappato (Vittoria)</td>\n",
       "      <td>Frappato</td>\n",
       "      <td>Terre di Giurfo</td>\n",
       "      <td>1900</td>\n",
       "      <td>129965</td>\n",
       "    </tr>\n",
       "    <tr>\n",
       "      <th>...</th>\n",
       "      <td>...</td>\n",
       "      <td>...</td>\n",
       "      <td>...</td>\n",
       "      <td>...</td>\n",
       "      <td>...</td>\n",
       "      <td>...</td>\n",
       "      <td>...</td>\n",
       "      <td>...</td>\n",
       "      <td>...</td>\n",
       "      <td>...</td>\n",
       "      <td>...</td>\n",
       "      <td>...</td>\n",
       "      <td>...</td>\n",
       "      <td>...</td>\n",
       "      <td>...</td>\n",
       "    </tr>\n",
       "    <tr>\n",
       "      <th>9988</th>\n",
       "      <td>Italy</td>\n",
       "      <td>Thick, black and extracted, this dense Barbera...</td>\n",
       "      <td>Del Beneficio</td>\n",
       "      <td>89</td>\n",
       "      <td>NaN</td>\n",
       "      <td>Piedmont</td>\n",
       "      <td>Barbera d'Asti Superiore</td>\n",
       "      <td>NaN</td>\n",
       "      <td>NaN</td>\n",
       "      <td>NaN</td>\n",
       "      <td>Castello di Razzano 2007 Del Beneficio  (Barbe...</td>\n",
       "      <td>Barbera</td>\n",
       "      <td>Castello di Razzano</td>\n",
       "      <td>1900</td>\n",
       "      <td>119983</td>\n",
       "    </tr>\n",
       "    <tr>\n",
       "      <th>9989</th>\n",
       "      <td>Italy</td>\n",
       "      <td>Pretty coffee notes are offset by ripe aromas ...</td>\n",
       "      <td>La Tota</td>\n",
       "      <td>89</td>\n",
       "      <td>28.0</td>\n",
       "      <td>Piedmont</td>\n",
       "      <td>Barbera d'Asti</td>\n",
       "      <td>NaN</td>\n",
       "      <td>NaN</td>\n",
       "      <td>NaN</td>\n",
       "      <td>Marchesi Alfieri 2007 La Tota  (Barbera d'Asti)</td>\n",
       "      <td>Barbera</td>\n",
       "      <td>Marchesi Alfieri</td>\n",
       "      <td>1900</td>\n",
       "      <td>119982</td>\n",
       "    </tr>\n",
       "  </tbody>\n",
       "</table>\n",
       "<p>1546 rows × 15 columns</p>\n",
       "</div>"
      ],
      "text/plain": [
       "     country                                        description  \\\n",
       "0      Italy  Aromas include tropical fruit, broom, brimston...   \n",
       "6      Italy  Here's a bright, informal red that opens with ...   \n",
       "...      ...                                                ...   \n",
       "9988   Italy  Thick, black and extracted, this dense Barbera...   \n",
       "9989   Italy  Pretty coffee notes are offset by ripe aromas ...   \n",
       "\n",
       "        designation  points  price           province  \\\n",
       "0      Vulkà Bianco      87    NaN  Sicily & Sardinia   \n",
       "6           Belsito      87   16.0  Sicily & Sardinia   \n",
       "...             ...     ...    ...                ...   \n",
       "9988  Del Beneficio      89    NaN           Piedmont   \n",
       "9989        La Tota      89   28.0           Piedmont   \n",
       "\n",
       "                      region_1 region_2    taster_name taster_twitter_handle  \\\n",
       "0                         Etna      NaN  Kerin O’Keefe          @kerinokeefe   \n",
       "6                     Vittoria      NaN  Kerin O’Keefe          @kerinokeefe   \n",
       "...                        ...      ...            ...                   ...   \n",
       "9988  Barbera d'Asti Superiore      NaN            NaN                   NaN   \n",
       "9989            Barbera d'Asti      NaN            NaN                   NaN   \n",
       "\n",
       "                                                  title      variety  \\\n",
       "0                     Nicosia 2013 Vulkà Bianco  (Etna)  White Blend   \n",
       "6      Terre di Giurfo 2013 Belsito Frappato (Vittoria)     Frappato   \n",
       "...                                                 ...          ...   \n",
       "9988  Castello di Razzano 2007 Del Beneficio  (Barbe...      Barbera   \n",
       "9989    Marchesi Alfieri 2007 La Tota  (Barbera d'Asti)      Barbera   \n",
       "\n",
       "                   winery  New col  index_backwards  \n",
       "0                 Nicosia     1900           129971  \n",
       "6         Terre di Giurfo     1900           129965  \n",
       "...                   ...      ...              ...  \n",
       "9988  Castello di Razzano     1900           119983  \n",
       "9989     Marchesi Alfieri     1900           119982  \n",
       "\n",
       "[1546 rows x 15 columns]"
      ]
     },
     "execution_count": 62,
     "metadata": {},
     "output_type": "execute_result"
    }
   ],
   "source": [
    "reviews[reviews.country == 'Italy']"
   ]
  },
  {
   "cell_type": "code",
   "execution_count": 63,
   "metadata": {},
   "outputs": [
    {
     "data": {
      "text/html": [
       "<div>\n",
       "<style scoped>\n",
       "    .dataframe tbody tr th:only-of-type {\n",
       "        vertical-align: middle;\n",
       "    }\n",
       "\n",
       "    .dataframe tbody tr th {\n",
       "        vertical-align: top;\n",
       "    }\n",
       "\n",
       "    .dataframe thead th {\n",
       "        text-align: right;\n",
       "    }\n",
       "</style>\n",
       "<table border=\"1\" class=\"dataframe\">\n",
       "  <thead>\n",
       "    <tr style=\"text-align: right;\">\n",
       "      <th></th>\n",
       "      <th>country</th>\n",
       "      <th>description</th>\n",
       "      <th>designation</th>\n",
       "      <th>points</th>\n",
       "      <th>price</th>\n",
       "      <th>province</th>\n",
       "      <th>region_1</th>\n",
       "      <th>region_2</th>\n",
       "      <th>taster_name</th>\n",
       "      <th>taster_twitter_handle</th>\n",
       "      <th>title</th>\n",
       "      <th>variety</th>\n",
       "      <th>winery</th>\n",
       "      <th>New col</th>\n",
       "      <th>index_backwards</th>\n",
       "    </tr>\n",
       "  </thead>\n",
       "  <tbody>\n",
       "    <tr>\n",
       "      <th>120</th>\n",
       "      <td>Italy</td>\n",
       "      <td>Slightly backward, particularly given the vint...</td>\n",
       "      <td>Bricco Rocche Prapó</td>\n",
       "      <td>92</td>\n",
       "      <td>70.0</td>\n",
       "      <td>Piedmont</td>\n",
       "      <td>Barolo</td>\n",
       "      <td>NaN</td>\n",
       "      <td>NaN</td>\n",
       "      <td>NaN</td>\n",
       "      <td>Ceretto 2003 Bricco Rocche Prapó  (Barolo)</td>\n",
       "      <td>Nebbiolo</td>\n",
       "      <td>Ceretto</td>\n",
       "      <td>1900</td>\n",
       "      <td>129851</td>\n",
       "    </tr>\n",
       "    <tr>\n",
       "      <th>130</th>\n",
       "      <td>Italy</td>\n",
       "      <td>At the first it was quite muted and subdued, b...</td>\n",
       "      <td>Bricco Rocche Brunate</td>\n",
       "      <td>91</td>\n",
       "      <td>70.0</td>\n",
       "      <td>Piedmont</td>\n",
       "      <td>Barolo</td>\n",
       "      <td>NaN</td>\n",
       "      <td>NaN</td>\n",
       "      <td>NaN</td>\n",
       "      <td>Ceretto 2003 Bricco Rocche Brunate  (Barolo)</td>\n",
       "      <td>Nebbiolo</td>\n",
       "      <td>Ceretto</td>\n",
       "      <td>1900</td>\n",
       "      <td>129841</td>\n",
       "    </tr>\n",
       "    <tr>\n",
       "      <th>...</th>\n",
       "      <td>...</td>\n",
       "      <td>...</td>\n",
       "      <td>...</td>\n",
       "      <td>...</td>\n",
       "      <td>...</td>\n",
       "      <td>...</td>\n",
       "      <td>...</td>\n",
       "      <td>...</td>\n",
       "      <td>...</td>\n",
       "      <td>...</td>\n",
       "      <td>...</td>\n",
       "      <td>...</td>\n",
       "      <td>...</td>\n",
       "      <td>...</td>\n",
       "      <td>...</td>\n",
       "    </tr>\n",
       "    <tr>\n",
       "      <th>9816</th>\n",
       "      <td>Italy</td>\n",
       "      <td>Forest floor, new leather, ripe, dark-skinned ...</td>\n",
       "      <td>Riserva</td>\n",
       "      <td>93</td>\n",
       "      <td>39.0</td>\n",
       "      <td>Tuscany</td>\n",
       "      <td>Chianti Classico</td>\n",
       "      <td>NaN</td>\n",
       "      <td>Kerin O’Keefe</td>\n",
       "      <td>@kerinokeefe</td>\n",
       "      <td>Badia a Coltibuono 2011 Riserva  (Chianti Clas...</td>\n",
       "      <td>Red Blend</td>\n",
       "      <td>Badia a Coltibuono</td>\n",
       "      <td>1900</td>\n",
       "      <td>120155</td>\n",
       "    </tr>\n",
       "    <tr>\n",
       "      <th>9934</th>\n",
       "      <td>Italy</td>\n",
       "      <td>Almond blossom, stone fruit and a tiny touch o...</td>\n",
       "      <td>Extra Dry Particella 68</td>\n",
       "      <td>90</td>\n",
       "      <td>NaN</td>\n",
       "      <td>Veneto</td>\n",
       "      <td>Prosecco di Valdobbiadene</td>\n",
       "      <td>NaN</td>\n",
       "      <td>NaN</td>\n",
       "      <td>NaN</td>\n",
       "      <td>Sorelle Bronca NV Extra Dry Particella 68  (Pr...</td>\n",
       "      <td>Prosecco</td>\n",
       "      <td>Sorelle Bronca</td>\n",
       "      <td>1900</td>\n",
       "      <td>120037</td>\n",
       "    </tr>\n",
       "  </tbody>\n",
       "</table>\n",
       "<p>504 rows × 15 columns</p>\n",
       "</div>"
      ],
      "text/plain": [
       "     country                                        description  \\\n",
       "120    Italy  Slightly backward, particularly given the vint...   \n",
       "130    Italy  At the first it was quite muted and subdued, b...   \n",
       "...      ...                                                ...   \n",
       "9816   Italy  Forest floor, new leather, ripe, dark-skinned ...   \n",
       "9934   Italy  Almond blossom, stone fruit and a tiny touch o...   \n",
       "\n",
       "                  designation  points  price  province  \\\n",
       "120       Bricco Rocche Prapó      92   70.0  Piedmont   \n",
       "130     Bricco Rocche Brunate      91   70.0  Piedmont   \n",
       "...                       ...     ...    ...       ...   \n",
       "9816                  Riserva      93   39.0   Tuscany   \n",
       "9934  Extra Dry Particella 68      90    NaN    Veneto   \n",
       "\n",
       "                       region_1 region_2    taster_name taster_twitter_handle  \\\n",
       "120                      Barolo      NaN            NaN                   NaN   \n",
       "130                      Barolo      NaN            NaN                   NaN   \n",
       "...                         ...      ...            ...                   ...   \n",
       "9816           Chianti Classico      NaN  Kerin O’Keefe          @kerinokeefe   \n",
       "9934  Prosecco di Valdobbiadene      NaN            NaN                   NaN   \n",
       "\n",
       "                                                  title    variety  \\\n",
       "120          Ceretto 2003 Bricco Rocche Prapó  (Barolo)   Nebbiolo   \n",
       "130        Ceretto 2003 Bricco Rocche Brunate  (Barolo)   Nebbiolo   \n",
       "...                                                 ...        ...   \n",
       "9816  Badia a Coltibuono 2011 Riserva  (Chianti Clas...  Red Blend   \n",
       "9934  Sorelle Bronca NV Extra Dry Particella 68  (Pr...   Prosecco   \n",
       "\n",
       "                  winery  New col  index_backwards  \n",
       "120              Ceretto     1900           129851  \n",
       "130              Ceretto     1900           129841  \n",
       "...                  ...      ...              ...  \n",
       "9816  Badia a Coltibuono     1900           120155  \n",
       "9934      Sorelle Bronca     1900           120037  \n",
       "\n",
       "[504 rows x 15 columns]"
      ]
     },
     "execution_count": 63,
     "metadata": {},
     "output_type": "execute_result"
    }
   ],
   "source": [
    "reviews.loc[(reviews.country == 'Italy') & (reviews.points >= 90)]"
   ]
  },
  {
   "cell_type": "code",
   "execution_count": 64,
   "metadata": {},
   "outputs": [
    {
     "data": {
      "text/html": [
       "<div>\n",
       "<style scoped>\n",
       "    .dataframe tbody tr th:only-of-type {\n",
       "        vertical-align: middle;\n",
       "    }\n",
       "\n",
       "    .dataframe tbody tr th {\n",
       "        vertical-align: top;\n",
       "    }\n",
       "\n",
       "    .dataframe thead th {\n",
       "        text-align: right;\n",
       "    }\n",
       "</style>\n",
       "<table border=\"1\" class=\"dataframe\">\n",
       "  <thead>\n",
       "    <tr style=\"text-align: right;\">\n",
       "      <th></th>\n",
       "      <th>country</th>\n",
       "      <th>description</th>\n",
       "      <th>designation</th>\n",
       "      <th>points</th>\n",
       "      <th>price</th>\n",
       "      <th>province</th>\n",
       "      <th>region_1</th>\n",
       "      <th>region_2</th>\n",
       "      <th>taster_name</th>\n",
       "      <th>taster_twitter_handle</th>\n",
       "      <th>title</th>\n",
       "      <th>variety</th>\n",
       "      <th>winery</th>\n",
       "      <th>New col</th>\n",
       "      <th>index_backwards</th>\n",
       "    </tr>\n",
       "  </thead>\n",
       "  <tbody>\n",
       "    <tr>\n",
       "      <th>0</th>\n",
       "      <td>Italy</td>\n",
       "      <td>Aromas include tropical fruit, broom, brimston...</td>\n",
       "      <td>Vulkà Bianco</td>\n",
       "      <td>87</td>\n",
       "      <td>NaN</td>\n",
       "      <td>Sicily &amp; Sardinia</td>\n",
       "      <td>Etna</td>\n",
       "      <td>NaN</td>\n",
       "      <td>Kerin O’Keefe</td>\n",
       "      <td>@kerinokeefe</td>\n",
       "      <td>Nicosia 2013 Vulkà Bianco  (Etna)</td>\n",
       "      <td>White Blend</td>\n",
       "      <td>Nicosia</td>\n",
       "      <td>1900</td>\n",
       "      <td>129971</td>\n",
       "    </tr>\n",
       "    <tr>\n",
       "      <th>6</th>\n",
       "      <td>Italy</td>\n",
       "      <td>Here's a bright, informal red that opens with ...</td>\n",
       "      <td>Belsito</td>\n",
       "      <td>87</td>\n",
       "      <td>16.0</td>\n",
       "      <td>Sicily &amp; Sardinia</td>\n",
       "      <td>Vittoria</td>\n",
       "      <td>NaN</td>\n",
       "      <td>Kerin O’Keefe</td>\n",
       "      <td>@kerinokeefe</td>\n",
       "      <td>Terre di Giurfo 2013 Belsito Frappato (Vittoria)</td>\n",
       "      <td>Frappato</td>\n",
       "      <td>Terre di Giurfo</td>\n",
       "      <td>1900</td>\n",
       "      <td>129965</td>\n",
       "    </tr>\n",
       "    <tr>\n",
       "      <th>...</th>\n",
       "      <td>...</td>\n",
       "      <td>...</td>\n",
       "      <td>...</td>\n",
       "      <td>...</td>\n",
       "      <td>...</td>\n",
       "      <td>...</td>\n",
       "      <td>...</td>\n",
       "      <td>...</td>\n",
       "      <td>...</td>\n",
       "      <td>...</td>\n",
       "      <td>...</td>\n",
       "      <td>...</td>\n",
       "      <td>...</td>\n",
       "      <td>...</td>\n",
       "      <td>...</td>\n",
       "    </tr>\n",
       "    <tr>\n",
       "      <th>9997</th>\n",
       "      <td>France</td>\n",
       "      <td>The style at Domaines Ott has changed to becom...</td>\n",
       "      <td>Château de Selle</td>\n",
       "      <td>89</td>\n",
       "      <td>43.0</td>\n",
       "      <td>Provence</td>\n",
       "      <td>Côtes de Provence</td>\n",
       "      <td>NaN</td>\n",
       "      <td>Roger Voss</td>\n",
       "      <td>@vossroger</td>\n",
       "      <td>Domaines Ott 2009 Château de Selle Rosé (Côtes...</td>\n",
       "      <td>Rosé</td>\n",
       "      <td>Domaines Ott</td>\n",
       "      <td>1900</td>\n",
       "      <td>119974</td>\n",
       "    </tr>\n",
       "    <tr>\n",
       "      <th>9999</th>\n",
       "      <td>France</td>\n",
       "      <td>As befits a single vineyard Gevrey Chambertin,...</td>\n",
       "      <td>Les Evocelles</td>\n",
       "      <td>91</td>\n",
       "      <td>52.0</td>\n",
       "      <td>Burgundy</td>\n",
       "      <td>Gevrey-Chambertin</td>\n",
       "      <td>NaN</td>\n",
       "      <td>Roger Voss</td>\n",
       "      <td>@vossroger</td>\n",
       "      <td>Henri de Villamont 2010 Les Evocelles  (Gevrey...</td>\n",
       "      <td>Pinot Noir</td>\n",
       "      <td>Henri de Villamont</td>\n",
       "      <td>1900</td>\n",
       "      <td>119972</td>\n",
       "    </tr>\n",
       "  </tbody>\n",
       "</table>\n",
       "<p>3134 rows × 15 columns</p>\n",
       "</div>"
      ],
      "text/plain": [
       "     country                                        description  \\\n",
       "0      Italy  Aromas include tropical fruit, broom, brimston...   \n",
       "6      Italy  Here's a bright, informal red that opens with ...   \n",
       "...      ...                                                ...   \n",
       "9997  France  The style at Domaines Ott has changed to becom...   \n",
       "9999  France  As befits a single vineyard Gevrey Chambertin,...   \n",
       "\n",
       "           designation  points  price           province           region_1  \\\n",
       "0         Vulkà Bianco      87    NaN  Sicily & Sardinia               Etna   \n",
       "6              Belsito      87   16.0  Sicily & Sardinia           Vittoria   \n",
       "...                ...     ...    ...                ...                ...   \n",
       "9997  Château de Selle      89   43.0           Provence  Côtes de Provence   \n",
       "9999     Les Evocelles      91   52.0           Burgundy  Gevrey-Chambertin   \n",
       "\n",
       "     region_2    taster_name taster_twitter_handle  \\\n",
       "0         NaN  Kerin O’Keefe          @kerinokeefe   \n",
       "6         NaN  Kerin O’Keefe          @kerinokeefe   \n",
       "...       ...            ...                   ...   \n",
       "9997      NaN     Roger Voss            @vossroger   \n",
       "9999      NaN     Roger Voss            @vossroger   \n",
       "\n",
       "                                                  title      variety  \\\n",
       "0                     Nicosia 2013 Vulkà Bianco  (Etna)  White Blend   \n",
       "6      Terre di Giurfo 2013 Belsito Frappato (Vittoria)     Frappato   \n",
       "...                                                 ...          ...   \n",
       "9997  Domaines Ott 2009 Château de Selle Rosé (Côtes...         Rosé   \n",
       "9999  Henri de Villamont 2010 Les Evocelles  (Gevrey...   Pinot Noir   \n",
       "\n",
       "                  winery  New col  index_backwards  \n",
       "0                Nicosia     1900           129971  \n",
       "6        Terre di Giurfo     1900           129965  \n",
       "...                  ...      ...              ...  \n",
       "9997        Domaines Ott     1900           119974  \n",
       "9999  Henri de Villamont     1900           119972  \n",
       "\n",
       "[3134 rows x 15 columns]"
      ]
     },
     "execution_count": 64,
     "metadata": {},
     "output_type": "execute_result"
    }
   ],
   "source": [
    "reviews.loc[reviews.country.isin(['Italy','France'])]"
   ]
  },
  {
   "cell_type": "code",
   "execution_count": 65,
   "metadata": {},
   "outputs": [
    {
     "data": {
      "text/plain": [
       "0       False\n",
       "1        True\n",
       "        ...  \n",
       "9998     True\n",
       "9999     True\n",
       "Name: price, Length: 10000, dtype: bool"
      ]
     },
     "execution_count": 65,
     "metadata": {},
     "output_type": "execute_result"
    }
   ],
   "source": [
    "reviews.price.notnull()"
   ]
  },
  {
   "cell_type": "code",
   "execution_count": 66,
   "metadata": {},
   "outputs": [
    {
     "data": {
      "text/html": [
       "<div>\n",
       "<style scoped>\n",
       "    .dataframe tbody tr th:only-of-type {\n",
       "        vertical-align: middle;\n",
       "    }\n",
       "\n",
       "    .dataframe tbody tr th {\n",
       "        vertical-align: top;\n",
       "    }\n",
       "\n",
       "    .dataframe thead th {\n",
       "        text-align: right;\n",
       "    }\n",
       "</style>\n",
       "<table border=\"1\" class=\"dataframe\">\n",
       "  <thead>\n",
       "    <tr style=\"text-align: right;\">\n",
       "      <th></th>\n",
       "      <th>country</th>\n",
       "      <th>description</th>\n",
       "      <th>designation</th>\n",
       "      <th>points</th>\n",
       "      <th>price</th>\n",
       "      <th>province</th>\n",
       "      <th>region_1</th>\n",
       "      <th>region_2</th>\n",
       "      <th>taster_name</th>\n",
       "      <th>taster_twitter_handle</th>\n",
       "      <th>title</th>\n",
       "      <th>variety</th>\n",
       "      <th>winery</th>\n",
       "      <th>New col</th>\n",
       "      <th>index_backwards</th>\n",
       "    </tr>\n",
       "  </thead>\n",
       "  <tbody>\n",
       "    <tr>\n",
       "      <th>1</th>\n",
       "      <td>Portugal</td>\n",
       "      <td>This is ripe and fruity, a wine that is smooth...</td>\n",
       "      <td>Avidagos</td>\n",
       "      <td>87</td>\n",
       "      <td>15.0</td>\n",
       "      <td>Douro</td>\n",
       "      <td>NaN</td>\n",
       "      <td>NaN</td>\n",
       "      <td>Roger Voss</td>\n",
       "      <td>@vossroger</td>\n",
       "      <td>Quinta dos Avidagos 2011 Avidagos Red (Douro)</td>\n",
       "      <td>Portuguese Red</td>\n",
       "      <td>Quinta dos Avidagos</td>\n",
       "      <td>1900</td>\n",
       "      <td>129970</td>\n",
       "    </tr>\n",
       "    <tr>\n",
       "      <th>2</th>\n",
       "      <td>US</td>\n",
       "      <td>Tart and snappy, the flavors of lime flesh and...</td>\n",
       "      <td>NaN</td>\n",
       "      <td>87</td>\n",
       "      <td>14.0</td>\n",
       "      <td>Oregon</td>\n",
       "      <td>Willamette Valley</td>\n",
       "      <td>Willamette Valley</td>\n",
       "      <td>Paul Gregutt</td>\n",
       "      <td>@paulgwine</td>\n",
       "      <td>Rainstorm 2013 Pinot Gris (Willamette Valley)</td>\n",
       "      <td>Pinot Gris</td>\n",
       "      <td>Rainstorm</td>\n",
       "      <td>1900</td>\n",
       "      <td>129969</td>\n",
       "    </tr>\n",
       "    <tr>\n",
       "      <th>...</th>\n",
       "      <td>...</td>\n",
       "      <td>...</td>\n",
       "      <td>...</td>\n",
       "      <td>...</td>\n",
       "      <td>...</td>\n",
       "      <td>...</td>\n",
       "      <td>...</td>\n",
       "      <td>...</td>\n",
       "      <td>...</td>\n",
       "      <td>...</td>\n",
       "      <td>...</td>\n",
       "      <td>...</td>\n",
       "      <td>...</td>\n",
       "      <td>...</td>\n",
       "      <td>...</td>\n",
       "    </tr>\n",
       "    <tr>\n",
       "      <th>9998</th>\n",
       "      <td>US</td>\n",
       "      <td>It's interesting and a little odd that this 10...</td>\n",
       "      <td>To Kalon Vineyard I Block</td>\n",
       "      <td>91</td>\n",
       "      <td>75.0</td>\n",
       "      <td>California</td>\n",
       "      <td>Oakville</td>\n",
       "      <td>Napa</td>\n",
       "      <td>NaN</td>\n",
       "      <td>NaN</td>\n",
       "      <td>Robert Mondavi 2010 To Kalon Vineyard I Block ...</td>\n",
       "      <td>Fumé Blanc</td>\n",
       "      <td>Robert Mondavi</td>\n",
       "      <td>1900</td>\n",
       "      <td>119973</td>\n",
       "    </tr>\n",
       "    <tr>\n",
       "      <th>9999</th>\n",
       "      <td>France</td>\n",
       "      <td>As befits a single vineyard Gevrey Chambertin,...</td>\n",
       "      <td>Les Evocelles</td>\n",
       "      <td>91</td>\n",
       "      <td>52.0</td>\n",
       "      <td>Burgundy</td>\n",
       "      <td>Gevrey-Chambertin</td>\n",
       "      <td>NaN</td>\n",
       "      <td>Roger Voss</td>\n",
       "      <td>@vossroger</td>\n",
       "      <td>Henri de Villamont 2010 Les Evocelles  (Gevrey...</td>\n",
       "      <td>Pinot Noir</td>\n",
       "      <td>Henri de Villamont</td>\n",
       "      <td>1900</td>\n",
       "      <td>119972</td>\n",
       "    </tr>\n",
       "  </tbody>\n",
       "</table>\n",
       "<p>9315 rows × 15 columns</p>\n",
       "</div>"
      ],
      "text/plain": [
       "       country                                        description  \\\n",
       "1     Portugal  This is ripe and fruity, a wine that is smooth...   \n",
       "2           US  Tart and snappy, the flavors of lime flesh and...   \n",
       "...        ...                                                ...   \n",
       "9998        US  It's interesting and a little odd that this 10...   \n",
       "9999    France  As befits a single vineyard Gevrey Chambertin,...   \n",
       "\n",
       "                    designation  points  price    province           region_1  \\\n",
       "1                      Avidagos      87   15.0       Douro                NaN   \n",
       "2                           NaN      87   14.0      Oregon  Willamette Valley   \n",
       "...                         ...     ...    ...         ...                ...   \n",
       "9998  To Kalon Vineyard I Block      91   75.0  California           Oakville   \n",
       "9999              Les Evocelles      91   52.0    Burgundy  Gevrey-Chambertin   \n",
       "\n",
       "               region_2   taster_name taster_twitter_handle  \\\n",
       "1                   NaN    Roger Voss            @vossroger   \n",
       "2     Willamette Valley  Paul Gregutt           @paulgwine    \n",
       "...                 ...           ...                   ...   \n",
       "9998               Napa           NaN                   NaN   \n",
       "9999                NaN    Roger Voss            @vossroger   \n",
       "\n",
       "                                                  title         variety  \\\n",
       "1         Quinta dos Avidagos 2011 Avidagos Red (Douro)  Portuguese Red   \n",
       "2         Rainstorm 2013 Pinot Gris (Willamette Valley)      Pinot Gris   \n",
       "...                                                 ...             ...   \n",
       "9998  Robert Mondavi 2010 To Kalon Vineyard I Block ...      Fumé Blanc   \n",
       "9999  Henri de Villamont 2010 Les Evocelles  (Gevrey...      Pinot Noir   \n",
       "\n",
       "                   winery  New col  index_backwards  \n",
       "1     Quinta dos Avidagos     1900           129970  \n",
       "2               Rainstorm     1900           129969  \n",
       "...                   ...      ...              ...  \n",
       "9998       Robert Mondavi     1900           119973  \n",
       "9999   Henri de Villamont     1900           119972  \n",
       "\n",
       "[9315 rows x 15 columns]"
      ]
     },
     "execution_count": 66,
     "metadata": {},
     "output_type": "execute_result"
    }
   ],
   "source": [
    "reviews.loc[reviews.price.notnull()]"
   ]
  },
  {
   "attachments": {},
   "cell_type": "markdown",
   "metadata": {},
   "source": [
    "# Assigning data"
   ]
  },
  {
   "cell_type": "code",
   "execution_count": 67,
   "metadata": {},
   "outputs": [],
   "source": [
    "reviews['New col'] = 1900"
   ]
  },
  {
   "cell_type": "code",
   "execution_count": 68,
   "metadata": {},
   "outputs": [
    {
     "data": {
      "text/plain": [
       "0       1900\n",
       "1       1900\n",
       "        ... \n",
       "9998    1900\n",
       "9999    1900\n",
       "Name: New col, Length: 10000, dtype: int64"
      ]
     },
     "execution_count": 68,
     "metadata": {},
     "output_type": "execute_result"
    }
   ],
   "source": [
    "reviews['New col']"
   ]
  },
  {
   "cell_type": "code",
   "execution_count": 69,
   "metadata": {},
   "outputs": [
    {
     "data": {
      "text/plain": [
       "0       10000\n",
       "1        9999\n",
       "        ...  \n",
       "9998        2\n",
       "9999        1\n",
       "Name: index_backwards, Length: 10000, dtype: int32"
      ]
     },
     "execution_count": 69,
     "metadata": {},
     "output_type": "execute_result"
    }
   ],
   "source": [
    "reviews['index_backwards'] = range(len(reviews), 0, -1)\n",
    "reviews['index_backwards']"
   ]
  },
  {
   "attachments": {},
   "cell_type": "markdown",
   "metadata": {},
   "source": [
    "# Summary functions"
   ]
  },
  {
   "cell_type": "code",
   "execution_count": 71,
   "metadata": {},
   "outputs": [
    {
     "data": {
      "text/plain": [
       "count    10000.0000\n",
       "mean        88.3957\n",
       "            ...    \n",
       "75%         90.0000\n",
       "max        100.0000\n",
       "Name: points, Length: 8, dtype: float64"
      ]
     },
     "execution_count": 71,
     "metadata": {},
     "output_type": "execute_result"
    }
   ],
   "source": [
    "reviews.points.describe()"
   ]
  },
  {
   "cell_type": "code",
   "execution_count": 72,
   "metadata": {},
   "outputs": [
    {
     "data": {
      "text/plain": [
       "count           8018\n",
       "unique            18\n",
       "top       Roger Voss\n",
       "freq            1943\n",
       "Name: taster_name, dtype: object"
      ]
     },
     "execution_count": 72,
     "metadata": {},
     "output_type": "execute_result"
    }
   ],
   "source": [
    "reviews.taster_name.describe()"
   ]
  },
  {
   "cell_type": "code",
   "execution_count": 73,
   "metadata": {},
   "outputs": [
    {
     "data": {
      "text/plain": [
       "88.3957"
      ]
     },
     "execution_count": 73,
     "metadata": {},
     "output_type": "execute_result"
    }
   ],
   "source": [
    "reviews.points.mean()"
   ]
  },
  {
   "cell_type": "code",
   "execution_count": 74,
   "metadata": {},
   "outputs": [
    {
     "data": {
      "text/plain": [
       "100"
      ]
     },
     "execution_count": 74,
     "metadata": {},
     "output_type": "execute_result"
    }
   ],
   "source": [
    "reviews.points.max()"
   ]
  },
  {
   "cell_type": "code",
   "execution_count": 75,
   "metadata": {},
   "outputs": [
    {
     "data": {
      "text/plain": [
       "80"
      ]
     },
     "execution_count": 75,
     "metadata": {},
     "output_type": "execute_result"
    }
   ],
   "source": [
    "reviews.points.min()"
   ]
  },
  {
   "cell_type": "code",
   "execution_count": 76,
   "metadata": {},
   "outputs": [
    {
     "data": {
      "text/plain": [
       "array(['Kerin O’Keefe', 'Roger Voss', 'Paul Gregutt',\n",
       "       'Alexander Peartree', 'Michael Schachner', 'Anna Lee C. Iijima',\n",
       "       'Virginie Boone', 'Matt Kettmann', nan, 'Sean P. Sullivan',\n",
       "       'Jim Gordon', 'Joe Czerwinski', 'Anne Krebiehl\\xa0MW',\n",
       "       'Lauren Buzzeo', 'Mike DeSimone', 'Jeff Jenssen',\n",
       "       'Susan Kostrzewa', 'Carrie Dykes', 'Fiona Adams'], dtype=object)"
      ]
     },
     "execution_count": 76,
     "metadata": {},
     "output_type": "execute_result"
    }
   ],
   "source": [
    "reviews.taster_name.unique()"
   ]
  },
  {
   "cell_type": "code",
   "execution_count": 77,
   "metadata": {},
   "outputs": [
    {
     "data": {
      "text/plain": [
       "Roger Voss           1943\n",
       "Michael Schachner    1216\n",
       "                     ... \n",
       "Carrie Dykes            6\n",
       "Fiona Adams             3\n",
       "Name: taster_name, Length: 18, dtype: int64"
      ]
     },
     "execution_count": 77,
     "metadata": {},
     "output_type": "execute_result"
    }
   ],
   "source": [
    "reviews.taster_name.value_counts()"
   ]
  },
  {
   "cell_type": "code",
   "execution_count": 90,
   "metadata": {},
   "outputs": [
    {
     "data": {
      "text/plain": [
       "345"
      ]
     },
     "execution_count": 90,
     "metadata": {},
     "output_type": "execute_result"
    }
   ],
   "source": [
    "#index of maximum value\n",
    "reviews.points.idxmax()"
   ]
  },
  {
   "attachments": {},
   "cell_type": "markdown",
   "metadata": {},
   "source": [
    "# Maps"
   ]
  },
  {
   "cell_type": "code",
   "execution_count": 79,
   "metadata": {},
   "outputs": [
    {
     "data": {
      "text/plain": [
       "0      -1.3957\n",
       "1      -1.3957\n",
       "         ...  \n",
       "9998    2.6043\n",
       "9999    2.6043\n",
       "Name: points, Length: 10000, dtype: float64"
      ]
     },
     "execution_count": 79,
     "metadata": {},
     "output_type": "execute_result"
    }
   ],
   "source": [
    "review_points_mean = reviews.points.mean()\n",
    "reviews.points.map(lambda p: p - review_points_mean)"
   ]
  },
  {
   "cell_type": "code",
   "execution_count": 80,
   "metadata": {},
   "outputs": [
    {
     "data": {
      "text/html": [
       "<div>\n",
       "<style scoped>\n",
       "    .dataframe tbody tr th:only-of-type {\n",
       "        vertical-align: middle;\n",
       "    }\n",
       "\n",
       "    .dataframe tbody tr th {\n",
       "        vertical-align: top;\n",
       "    }\n",
       "\n",
       "    .dataframe thead th {\n",
       "        text-align: right;\n",
       "    }\n",
       "</style>\n",
       "<table border=\"1\" class=\"dataframe\">\n",
       "  <thead>\n",
       "    <tr style=\"text-align: right;\">\n",
       "      <th></th>\n",
       "      <th>country</th>\n",
       "      <th>description</th>\n",
       "      <th>designation</th>\n",
       "      <th>points</th>\n",
       "      <th>price</th>\n",
       "      <th>province</th>\n",
       "      <th>region_1</th>\n",
       "      <th>region_2</th>\n",
       "      <th>taster_name</th>\n",
       "      <th>taster_twitter_handle</th>\n",
       "      <th>title</th>\n",
       "      <th>variety</th>\n",
       "      <th>winery</th>\n",
       "      <th>New col</th>\n",
       "      <th>index_backwards</th>\n",
       "    </tr>\n",
       "  </thead>\n",
       "  <tbody>\n",
       "    <tr>\n",
       "      <th>0</th>\n",
       "      <td>Italy</td>\n",
       "      <td>Aromas include tropical fruit, broom, brimston...</td>\n",
       "      <td>Vulkà Bianco</td>\n",
       "      <td>-1.3957</td>\n",
       "      <td>NaN</td>\n",
       "      <td>Sicily &amp; Sardinia</td>\n",
       "      <td>Etna</td>\n",
       "      <td>NaN</td>\n",
       "      <td>Kerin O’Keefe</td>\n",
       "      <td>@kerinokeefe</td>\n",
       "      <td>Nicosia 2013 Vulkà Bianco  (Etna)</td>\n",
       "      <td>White Blend</td>\n",
       "      <td>Nicosia</td>\n",
       "      <td>1900</td>\n",
       "      <td>10000</td>\n",
       "    </tr>\n",
       "    <tr>\n",
       "      <th>1</th>\n",
       "      <td>Portugal</td>\n",
       "      <td>This is ripe and fruity, a wine that is smooth...</td>\n",
       "      <td>Avidagos</td>\n",
       "      <td>-1.3957</td>\n",
       "      <td>15.0</td>\n",
       "      <td>Douro</td>\n",
       "      <td>NaN</td>\n",
       "      <td>NaN</td>\n",
       "      <td>Roger Voss</td>\n",
       "      <td>@vossroger</td>\n",
       "      <td>Quinta dos Avidagos 2011 Avidagos Red (Douro)</td>\n",
       "      <td>Portuguese Red</td>\n",
       "      <td>Quinta dos Avidagos</td>\n",
       "      <td>1900</td>\n",
       "      <td>9999</td>\n",
       "    </tr>\n",
       "    <tr>\n",
       "      <th>...</th>\n",
       "      <td>...</td>\n",
       "      <td>...</td>\n",
       "      <td>...</td>\n",
       "      <td>...</td>\n",
       "      <td>...</td>\n",
       "      <td>...</td>\n",
       "      <td>...</td>\n",
       "      <td>...</td>\n",
       "      <td>...</td>\n",
       "      <td>...</td>\n",
       "      <td>...</td>\n",
       "      <td>...</td>\n",
       "      <td>...</td>\n",
       "      <td>...</td>\n",
       "      <td>...</td>\n",
       "    </tr>\n",
       "    <tr>\n",
       "      <th>9998</th>\n",
       "      <td>US</td>\n",
       "      <td>It's interesting and a little odd that this 10...</td>\n",
       "      <td>To Kalon Vineyard I Block</td>\n",
       "      <td>2.6043</td>\n",
       "      <td>75.0</td>\n",
       "      <td>California</td>\n",
       "      <td>Oakville</td>\n",
       "      <td>Napa</td>\n",
       "      <td>NaN</td>\n",
       "      <td>NaN</td>\n",
       "      <td>Robert Mondavi 2010 To Kalon Vineyard I Block ...</td>\n",
       "      <td>Fumé Blanc</td>\n",
       "      <td>Robert Mondavi</td>\n",
       "      <td>1900</td>\n",
       "      <td>2</td>\n",
       "    </tr>\n",
       "    <tr>\n",
       "      <th>9999</th>\n",
       "      <td>France</td>\n",
       "      <td>As befits a single vineyard Gevrey Chambertin,...</td>\n",
       "      <td>Les Evocelles</td>\n",
       "      <td>2.6043</td>\n",
       "      <td>52.0</td>\n",
       "      <td>Burgundy</td>\n",
       "      <td>Gevrey-Chambertin</td>\n",
       "      <td>NaN</td>\n",
       "      <td>Roger Voss</td>\n",
       "      <td>@vossroger</td>\n",
       "      <td>Henri de Villamont 2010 Les Evocelles  (Gevrey...</td>\n",
       "      <td>Pinot Noir</td>\n",
       "      <td>Henri de Villamont</td>\n",
       "      <td>1900</td>\n",
       "      <td>1</td>\n",
       "    </tr>\n",
       "  </tbody>\n",
       "</table>\n",
       "<p>10000 rows × 15 columns</p>\n",
       "</div>"
      ],
      "text/plain": [
       "       country                                        description  \\\n",
       "0        Italy  Aromas include tropical fruit, broom, brimston...   \n",
       "1     Portugal  This is ripe and fruity, a wine that is smooth...   \n",
       "...        ...                                                ...   \n",
       "9998        US  It's interesting and a little odd that this 10...   \n",
       "9999    France  As befits a single vineyard Gevrey Chambertin,...   \n",
       "\n",
       "                    designation  points  price           province  \\\n",
       "0                  Vulkà Bianco -1.3957    NaN  Sicily & Sardinia   \n",
       "1                      Avidagos -1.3957   15.0              Douro   \n",
       "...                         ...     ...    ...                ...   \n",
       "9998  To Kalon Vineyard I Block  2.6043   75.0         California   \n",
       "9999              Les Evocelles  2.6043   52.0           Burgundy   \n",
       "\n",
       "               region_1 region_2    taster_name taster_twitter_handle  \\\n",
       "0                  Etna      NaN  Kerin O’Keefe          @kerinokeefe   \n",
       "1                   NaN      NaN     Roger Voss            @vossroger   \n",
       "...                 ...      ...            ...                   ...   \n",
       "9998           Oakville     Napa            NaN                   NaN   \n",
       "9999  Gevrey-Chambertin      NaN     Roger Voss            @vossroger   \n",
       "\n",
       "                                                  title         variety  \\\n",
       "0                     Nicosia 2013 Vulkà Bianco  (Etna)     White Blend   \n",
       "1         Quinta dos Avidagos 2011 Avidagos Red (Douro)  Portuguese Red   \n",
       "...                                                 ...             ...   \n",
       "9998  Robert Mondavi 2010 To Kalon Vineyard I Block ...      Fumé Blanc   \n",
       "9999  Henri de Villamont 2010 Les Evocelles  (Gevrey...      Pinot Noir   \n",
       "\n",
       "                   winery  New col  index_backwards  \n",
       "0                 Nicosia     1900            10000  \n",
       "1     Quinta dos Avidagos     1900             9999  \n",
       "...                   ...      ...              ...  \n",
       "9998       Robert Mondavi     1900                2  \n",
       "9999   Henri de Villamont     1900                1  \n",
       "\n",
       "[10000 rows x 15 columns]"
      ]
     },
     "execution_count": 80,
     "metadata": {},
     "output_type": "execute_result"
    }
   ],
   "source": [
    "def remean_points(row):\n",
    "    row.points = row.points - review_points_mean\n",
    "    return row\n",
    "\n",
    "reviews.apply(remean_points, axis='columns')"
   ]
  },
  {
   "cell_type": "code",
   "execution_count": 81,
   "metadata": {},
   "outputs": [
    {
     "data": {
      "text/plain": [
       "0      -1.3957\n",
       "1      -1.3957\n",
       "         ...  \n",
       "9998    2.6043\n",
       "9999    2.6043\n",
       "Name: points, Length: 10000, dtype: float64"
      ]
     },
     "execution_count": 81,
     "metadata": {},
     "output_type": "execute_result"
    }
   ],
   "source": [
    "review_points_mean = reviews.points.mean()\n",
    "reviews.points - review_points_mean"
   ]
  },
  {
   "cell_type": "code",
   "execution_count": 82,
   "metadata": {},
   "outputs": [
    {
     "data": {
      "text/plain": [
       "0                     Italy - Etna\n",
       "1                              NaN\n",
       "                   ...            \n",
       "9998                 US - Oakville\n",
       "9999    France - Gevrey-Chambertin\n",
       "Length: 10000, dtype: object"
      ]
     },
     "execution_count": 82,
     "metadata": {},
     "output_type": "execute_result"
    }
   ],
   "source": [
    "reviews.country + \" - \" + reviews.region_1"
   ]
  },
  {
   "attachments": {},
   "cell_type": "markdown",
   "metadata": {},
   "source": [
    "# Grouping and sorting"
   ]
  },
  {
   "cell_type": "code",
   "execution_count": 110,
   "metadata": {},
   "outputs": [
    {
     "data": {
      "text/plain": [
       "87     1424\n",
       "88     1341\n",
       "       ... \n",
       "99        2\n",
       "100       2\n",
       "Name: points, Length: 21, dtype: int64"
      ]
     },
     "execution_count": 110,
     "metadata": {},
     "output_type": "execute_result"
    }
   ],
   "source": [
    "reviews.points.value_counts()"
   ]
  },
  {
   "cell_type": "code",
   "execution_count": 114,
   "metadata": {},
   "outputs": [
    {
     "data": {
      "text/plain": [
       "points\n",
       "80     16\n",
       "81     42\n",
       "       ..\n",
       "99      2\n",
       "100     2\n",
       "Name: points, Length: 21, dtype: int64"
      ]
     },
     "execution_count": 114,
     "metadata": {},
     "output_type": "execute_result"
    }
   ],
   "source": [
    "reviews.groupby('points').points.count()"
   ]
  },
  {
   "cell_type": "code",
   "execution_count": 112,
   "metadata": {},
   "outputs": [
    {
     "data": {
      "text/plain": [
       "points\n",
       "80       8.0\n",
       "81       7.0\n",
       "       ...  \n",
       "99      94.0\n",
       "100    210.0\n",
       "Name: price, Length: 21, dtype: float64"
      ]
     },
     "execution_count": 112,
     "metadata": {},
     "output_type": "execute_result"
    }
   ],
   "source": [
    "reviews.groupby('points').price.min()"
   ]
  },
  {
   "cell_type": "code",
   "execution_count": 115,
   "metadata": {},
   "outputs": [
    {
     "data": {
      "text/plain": [
       "winery\n",
       "12 Linajes                   12 Linajes 2009 Reserva  (Ribera del Duero)\n",
       "14 Hands                             14 Hands 2010 Riesling (Washington)\n",
       "                                             ...                        \n",
       "Ökonomierat Rebholz    Ökonomierat Rebholz 2007 Von Rotliegenden Spät...\n",
       "àMaurice               àMaurice 2013 Fred Estate Syrah (Walla Walla V...\n",
       "Length: 5487, dtype: object"
      ]
     },
     "execution_count": 115,
     "metadata": {},
     "output_type": "execute_result"
    }
   ],
   "source": [
    "reviews.groupby('winery').apply(lambda df: df.title.iloc[0])"
   ]
  },
  {
   "cell_type": "code",
   "execution_count": 116,
   "metadata": {},
   "outputs": [
    {
     "data": {
      "text/html": [
       "<div>\n",
       "<style scoped>\n",
       "    .dataframe tbody tr th:only-of-type {\n",
       "        vertical-align: middle;\n",
       "    }\n",
       "\n",
       "    .dataframe tbody tr th {\n",
       "        vertical-align: top;\n",
       "    }\n",
       "\n",
       "    .dataframe thead th {\n",
       "        text-align: right;\n",
       "    }\n",
       "</style>\n",
       "<table border=\"1\" class=\"dataframe\">\n",
       "  <thead>\n",
       "    <tr style=\"text-align: right;\">\n",
       "      <th></th>\n",
       "      <th></th>\n",
       "      <th>country</th>\n",
       "      <th>description</th>\n",
       "      <th>designation</th>\n",
       "      <th>points</th>\n",
       "      <th>price</th>\n",
       "      <th>province</th>\n",
       "      <th>region_1</th>\n",
       "      <th>region_2</th>\n",
       "      <th>taster_name</th>\n",
       "      <th>taster_twitter_handle</th>\n",
       "      <th>title</th>\n",
       "      <th>variety</th>\n",
       "      <th>winery</th>\n",
       "      <th>New col</th>\n",
       "      <th>index_backwards</th>\n",
       "    </tr>\n",
       "    <tr>\n",
       "      <th>country</th>\n",
       "      <th>province</th>\n",
       "      <th></th>\n",
       "      <th></th>\n",
       "      <th></th>\n",
       "      <th></th>\n",
       "      <th></th>\n",
       "      <th></th>\n",
       "      <th></th>\n",
       "      <th></th>\n",
       "      <th></th>\n",
       "      <th></th>\n",
       "      <th></th>\n",
       "      <th></th>\n",
       "      <th></th>\n",
       "      <th></th>\n",
       "      <th></th>\n",
       "    </tr>\n",
       "  </thead>\n",
       "  <tbody>\n",
       "    <tr>\n",
       "      <th rowspan=\"2\" valign=\"top\">Argentina</th>\n",
       "      <th>Mendoza Province</th>\n",
       "      <td>Argentina</td>\n",
       "      <td>If you love massive Argentine reds with purity...</td>\n",
       "      <td>Finca Pedregal Single Vineyard Barrancas Maipú...</td>\n",
       "      <td>95</td>\n",
       "      <td>74.0</td>\n",
       "      <td>Mendoza Province</td>\n",
       "      <td>Mendoza</td>\n",
       "      <td>NaN</td>\n",
       "      <td>Michael Schachner</td>\n",
       "      <td>@wineschach</td>\n",
       "      <td>Pascual Toso 2014 Finca Pedregal Single Vineya...</td>\n",
       "      <td>Cabernet Sauvignon-Malbec</td>\n",
       "      <td>Pascual Toso</td>\n",
       "      <td>1900</td>\n",
       "      <td>121102</td>\n",
       "    </tr>\n",
       "    <tr>\n",
       "      <th>Other</th>\n",
       "      <td>Argentina</td>\n",
       "      <td>This single-vineyard Malbec blend from vineyar...</td>\n",
       "      <td>Chañar Punco</td>\n",
       "      <td>94</td>\n",
       "      <td>68.0</td>\n",
       "      <td>Other</td>\n",
       "      <td>Calchaquí Valley</td>\n",
       "      <td>NaN</td>\n",
       "      <td>Michael Schachner</td>\n",
       "      <td>@wineschach</td>\n",
       "      <td>El Esteco 2013 Chañar Punco Red (Calchaquí Val...</td>\n",
       "      <td>Red Blend</td>\n",
       "      <td>El Esteco</td>\n",
       "      <td>1900</td>\n",
       "      <td>125338</td>\n",
       "    </tr>\n",
       "    <tr>\n",
       "      <th>...</th>\n",
       "      <th>...</th>\n",
       "      <td>...</td>\n",
       "      <td>...</td>\n",
       "      <td>...</td>\n",
       "      <td>...</td>\n",
       "      <td>...</td>\n",
       "      <td>...</td>\n",
       "      <td>...</td>\n",
       "      <td>...</td>\n",
       "      <td>...</td>\n",
       "      <td>...</td>\n",
       "      <td>...</td>\n",
       "      <td>...</td>\n",
       "      <td>...</td>\n",
       "      <td>...</td>\n",
       "      <td>...</td>\n",
       "    </tr>\n",
       "    <tr>\n",
       "      <th rowspan=\"2\" valign=\"top\">Uruguay</th>\n",
       "      <th>Juanico</th>\n",
       "      <td>Uruguay</td>\n",
       "      <td>This mature Bordeaux-style blend is earthy on ...</td>\n",
       "      <td>Preludio Barrel Select Lote N 77</td>\n",
       "      <td>90</td>\n",
       "      <td>45.0</td>\n",
       "      <td>Juanico</td>\n",
       "      <td>NaN</td>\n",
       "      <td>NaN</td>\n",
       "      <td>Michael Schachner</td>\n",
       "      <td>@wineschach</td>\n",
       "      <td>Familia Deicas 2004 Preludio Barrel Select Lot...</td>\n",
       "      <td>Red Blend</td>\n",
       "      <td>Familia Deicas</td>\n",
       "      <td>1900</td>\n",
       "      <td>120838</td>\n",
       "    </tr>\n",
       "    <tr>\n",
       "      <th>Uruguay</th>\n",
       "      <td>Uruguay</td>\n",
       "      <td>Ripe berry and prune aromas are accented by li...</td>\n",
       "      <td>Roble</td>\n",
       "      <td>90</td>\n",
       "      <td>35.0</td>\n",
       "      <td>Uruguay</td>\n",
       "      <td>NaN</td>\n",
       "      <td>NaN</td>\n",
       "      <td>Michael Schachner</td>\n",
       "      <td>@wineschach</td>\n",
       "      <td>Narbona 2013 Roble Tannat (Uruguay)</td>\n",
       "      <td>Tannat</td>\n",
       "      <td>Narbona</td>\n",
       "      <td>1900</td>\n",
       "      <td>123966</td>\n",
       "    </tr>\n",
       "  </tbody>\n",
       "</table>\n",
       "<p>238 rows × 15 columns</p>\n",
       "</div>"
      ],
      "text/plain": [
       "                              country  \\\n",
       "country   province                      \n",
       "Argentina Mendoza Province  Argentina   \n",
       "          Other             Argentina   \n",
       "...                               ...   \n",
       "Uruguay   Juanico             Uruguay   \n",
       "          Uruguay             Uruguay   \n",
       "\n",
       "                                                                  description  \\\n",
       "country   province                                                              \n",
       "Argentina Mendoza Province  If you love massive Argentine reds with purity...   \n",
       "          Other             This single-vineyard Malbec blend from vineyar...   \n",
       "...                                                                       ...   \n",
       "Uruguay   Juanico           This mature Bordeaux-style blend is earthy on ...   \n",
       "          Uruguay           Ripe berry and prune aromas are accented by li...   \n",
       "\n",
       "                                                                  designation  \\\n",
       "country   province                                                              \n",
       "Argentina Mendoza Province  Finca Pedregal Single Vineyard Barrancas Maipú...   \n",
       "          Other                                                  Chañar Punco   \n",
       "...                                                                       ...   \n",
       "Uruguay   Juanico                            Preludio Barrel Select Lote N 77   \n",
       "          Uruguay                                                       Roble   \n",
       "\n",
       "                            points  price          province          region_1  \\\n",
       "country   province                                                              \n",
       "Argentina Mendoza Province      95   74.0  Mendoza Province           Mendoza   \n",
       "          Other                 94   68.0             Other  Calchaquí Valley   \n",
       "...                            ...    ...               ...               ...   \n",
       "Uruguay   Juanico               90   45.0           Juanico               NaN   \n",
       "          Uruguay               90   35.0           Uruguay               NaN   \n",
       "\n",
       "                           region_2        taster_name taster_twitter_handle  \\\n",
       "country   province                                                             \n",
       "Argentina Mendoza Province      NaN  Michael Schachner           @wineschach   \n",
       "          Other                 NaN  Michael Schachner           @wineschach   \n",
       "...                             ...                ...                   ...   \n",
       "Uruguay   Juanico               NaN  Michael Schachner           @wineschach   \n",
       "          Uruguay               NaN  Michael Schachner           @wineschach   \n",
       "\n",
       "                                                                        title  \\\n",
       "country   province                                                              \n",
       "Argentina Mendoza Province  Pascual Toso 2014 Finca Pedregal Single Vineya...   \n",
       "          Other             El Esteco 2013 Chañar Punco Red (Calchaquí Val...   \n",
       "...                                                                       ...   \n",
       "Uruguay   Juanico           Familia Deicas 2004 Preludio Barrel Select Lot...   \n",
       "          Uruguay                         Narbona 2013 Roble Tannat (Uruguay)   \n",
       "\n",
       "                                              variety          winery  \\\n",
       "country   province                                                      \n",
       "Argentina Mendoza Province  Cabernet Sauvignon-Malbec    Pascual Toso   \n",
       "          Other                             Red Blend       El Esteco   \n",
       "...                                               ...             ...   \n",
       "Uruguay   Juanico                           Red Blend  Familia Deicas   \n",
       "          Uruguay                              Tannat         Narbona   \n",
       "\n",
       "                            New col  index_backwards  \n",
       "country   province                                    \n",
       "Argentina Mendoza Province     1900           121102  \n",
       "          Other                1900           125338  \n",
       "...                             ...              ...  \n",
       "Uruguay   Juanico              1900           120838  \n",
       "          Uruguay              1900           123966  \n",
       "\n",
       "[238 rows x 15 columns]"
      ]
     },
     "execution_count": 116,
     "metadata": {},
     "output_type": "execute_result"
    }
   ],
   "source": [
    "reviews.groupby(['country', 'province']).apply(lambda df: df.loc[df.points.idxmax()])"
   ]
  },
  {
   "cell_type": "code",
   "execution_count": 117,
   "metadata": {},
   "outputs": [
    {
     "data": {
      "text/html": [
       "<div>\n",
       "<style scoped>\n",
       "    .dataframe tbody tr th:only-of-type {\n",
       "        vertical-align: middle;\n",
       "    }\n",
       "\n",
       "    .dataframe tbody tr th {\n",
       "        vertical-align: top;\n",
       "    }\n",
       "\n",
       "    .dataframe thead th {\n",
       "        text-align: right;\n",
       "    }\n",
       "</style>\n",
       "<table border=\"1\" class=\"dataframe\">\n",
       "  <thead>\n",
       "    <tr style=\"text-align: right;\">\n",
       "      <th></th>\n",
       "      <th>len</th>\n",
       "      <th>min</th>\n",
       "      <th>max</th>\n",
       "    </tr>\n",
       "    <tr>\n",
       "      <th>country</th>\n",
       "      <th></th>\n",
       "      <th></th>\n",
       "      <th></th>\n",
       "    </tr>\n",
       "  </thead>\n",
       "  <tbody>\n",
       "    <tr>\n",
       "      <th>Argentina</th>\n",
       "      <td>316.0</td>\n",
       "      <td>6.0</td>\n",
       "      <td>215.0</td>\n",
       "    </tr>\n",
       "    <tr>\n",
       "      <th>Armenia</th>\n",
       "      <td>1.0</td>\n",
       "      <td>14.0</td>\n",
       "      <td>14.0</td>\n",
       "    </tr>\n",
       "    <tr>\n",
       "      <th>...</th>\n",
       "      <td>...</td>\n",
       "      <td>...</td>\n",
       "      <td>...</td>\n",
       "    </tr>\n",
       "    <tr>\n",
       "      <th>US</th>\n",
       "      <td>4181.0</td>\n",
       "      <td>5.0</td>\n",
       "      <td>300.0</td>\n",
       "    </tr>\n",
       "    <tr>\n",
       "      <th>Uruguay</th>\n",
       "      <td>5.0</td>\n",
       "      <td>16.0</td>\n",
       "      <td>45.0</td>\n",
       "    </tr>\n",
       "  </tbody>\n",
       "</table>\n",
       "<p>36 rows × 3 columns</p>\n",
       "</div>"
      ],
      "text/plain": [
       "              len   min    max\n",
       "country                       \n",
       "Argentina   316.0   6.0  215.0\n",
       "Armenia       1.0  14.0   14.0\n",
       "...           ...   ...    ...\n",
       "US         4181.0   5.0  300.0\n",
       "Uruguay       5.0  16.0   45.0\n",
       "\n",
       "[36 rows x 3 columns]"
      ]
     },
     "execution_count": 117,
     "metadata": {},
     "output_type": "execute_result"
    }
   ],
   "source": [
    "reviews.groupby(['country']).price.agg([len, min, max])"
   ]
  },
  {
   "attachments": {},
   "cell_type": "markdown",
   "metadata": {},
   "source": [
    "Multi-index"
   ]
  },
  {
   "cell_type": "code",
   "execution_count": 118,
   "metadata": {},
   "outputs": [
    {
     "data": {
      "text/html": [
       "<div>\n",
       "<style scoped>\n",
       "    .dataframe tbody tr th:only-of-type {\n",
       "        vertical-align: middle;\n",
       "    }\n",
       "\n",
       "    .dataframe tbody tr th {\n",
       "        vertical-align: top;\n",
       "    }\n",
       "\n",
       "    .dataframe thead th {\n",
       "        text-align: right;\n",
       "    }\n",
       "</style>\n",
       "<table border=\"1\" class=\"dataframe\">\n",
       "  <thead>\n",
       "    <tr style=\"text-align: right;\">\n",
       "      <th></th>\n",
       "      <th></th>\n",
       "      <th>len</th>\n",
       "    </tr>\n",
       "    <tr>\n",
       "      <th>country</th>\n",
       "      <th>province</th>\n",
       "      <th></th>\n",
       "    </tr>\n",
       "  </thead>\n",
       "  <tbody>\n",
       "    <tr>\n",
       "      <th rowspan=\"2\" valign=\"top\">Argentina</th>\n",
       "      <th>Mendoza Province</th>\n",
       "      <td>273</td>\n",
       "    </tr>\n",
       "    <tr>\n",
       "      <th>Other</th>\n",
       "      <td>43</td>\n",
       "    </tr>\n",
       "    <tr>\n",
       "      <th>...</th>\n",
       "      <th>...</th>\n",
       "      <td>...</td>\n",
       "    </tr>\n",
       "    <tr>\n",
       "      <th rowspan=\"2\" valign=\"top\">Uruguay</th>\n",
       "      <th>Juanico</th>\n",
       "      <td>1</td>\n",
       "    </tr>\n",
       "    <tr>\n",
       "      <th>Uruguay</th>\n",
       "      <td>1</td>\n",
       "    </tr>\n",
       "  </tbody>\n",
       "</table>\n",
       "<p>238 rows × 1 columns</p>\n",
       "</div>"
      ],
      "text/plain": [
       "                            len\n",
       "country   province             \n",
       "Argentina Mendoza Province  273\n",
       "          Other              43\n",
       "...                         ...\n",
       "Uruguay   Juanico             1\n",
       "          Uruguay             1\n",
       "\n",
       "[238 rows x 1 columns]"
      ]
     },
     "execution_count": 118,
     "metadata": {},
     "output_type": "execute_result"
    }
   ],
   "source": [
    "countries_reviewed = reviews.groupby(['country', 'province']).description.agg([len])\n",
    "countries_reviewed"
   ]
  },
  {
   "cell_type": "code",
   "execution_count": 119,
   "metadata": {},
   "outputs": [
    {
     "data": {
      "text/plain": [
       "pandas.core.indexes.multi.MultiIndex"
      ]
     },
     "execution_count": 119,
     "metadata": {},
     "output_type": "execute_result"
    }
   ],
   "source": [
    "type(countries_reviewed.index)"
   ]
  },
  {
   "cell_type": "code",
   "execution_count": 120,
   "metadata": {},
   "outputs": [
    {
     "data": {
      "text/html": [
       "<div>\n",
       "<style scoped>\n",
       "    .dataframe tbody tr th:only-of-type {\n",
       "        vertical-align: middle;\n",
       "    }\n",
       "\n",
       "    .dataframe tbody tr th {\n",
       "        vertical-align: top;\n",
       "    }\n",
       "\n",
       "    .dataframe thead th {\n",
       "        text-align: right;\n",
       "    }\n",
       "</style>\n",
       "<table border=\"1\" class=\"dataframe\">\n",
       "  <thead>\n",
       "    <tr style=\"text-align: right;\">\n",
       "      <th></th>\n",
       "      <th>country</th>\n",
       "      <th>province</th>\n",
       "      <th>len</th>\n",
       "    </tr>\n",
       "  </thead>\n",
       "  <tbody>\n",
       "    <tr>\n",
       "      <th>0</th>\n",
       "      <td>Argentina</td>\n",
       "      <td>Mendoza Province</td>\n",
       "      <td>273</td>\n",
       "    </tr>\n",
       "    <tr>\n",
       "      <th>1</th>\n",
       "      <td>Argentina</td>\n",
       "      <td>Other</td>\n",
       "      <td>43</td>\n",
       "    </tr>\n",
       "    <tr>\n",
       "      <th>...</th>\n",
       "      <td>...</td>\n",
       "      <td>...</td>\n",
       "      <td>...</td>\n",
       "    </tr>\n",
       "    <tr>\n",
       "      <th>236</th>\n",
       "      <td>Uruguay</td>\n",
       "      <td>Juanico</td>\n",
       "      <td>1</td>\n",
       "    </tr>\n",
       "    <tr>\n",
       "      <th>237</th>\n",
       "      <td>Uruguay</td>\n",
       "      <td>Uruguay</td>\n",
       "      <td>1</td>\n",
       "    </tr>\n",
       "  </tbody>\n",
       "</table>\n",
       "<p>238 rows × 3 columns</p>\n",
       "</div>"
      ],
      "text/plain": [
       "       country          province  len\n",
       "0    Argentina  Mendoza Province  273\n",
       "1    Argentina             Other   43\n",
       "..         ...               ...  ...\n",
       "236    Uruguay           Juanico    1\n",
       "237    Uruguay           Uruguay    1\n",
       "\n",
       "[238 rows x 3 columns]"
      ]
     },
     "execution_count": 120,
     "metadata": {},
     "output_type": "execute_result"
    }
   ],
   "source": [
    "countries_reviewed.reset_index()"
   ]
  },
  {
   "attachments": {},
   "cell_type": "markdown",
   "metadata": {},
   "source": [
    "# Sorting"
   ]
  },
  {
   "cell_type": "code",
   "execution_count": 121,
   "metadata": {},
   "outputs": [
    {
     "data": {
      "text/html": [
       "<div>\n",
       "<style scoped>\n",
       "    .dataframe tbody tr th:only-of-type {\n",
       "        vertical-align: middle;\n",
       "    }\n",
       "\n",
       "    .dataframe tbody tr th {\n",
       "        vertical-align: top;\n",
       "    }\n",
       "\n",
       "    .dataframe thead th {\n",
       "        text-align: right;\n",
       "    }\n",
       "</style>\n",
       "<table border=\"1\" class=\"dataframe\">\n",
       "  <thead>\n",
       "    <tr style=\"text-align: right;\">\n",
       "      <th></th>\n",
       "      <th>country</th>\n",
       "      <th>province</th>\n",
       "      <th>len</th>\n",
       "    </tr>\n",
       "  </thead>\n",
       "  <tbody>\n",
       "    <tr>\n",
       "      <th>237</th>\n",
       "      <td>Uruguay</td>\n",
       "      <td>Uruguay</td>\n",
       "      <td>1</td>\n",
       "    </tr>\n",
       "    <tr>\n",
       "      <th>61</th>\n",
       "      <td>Croatia</td>\n",
       "      <td>Korčula</td>\n",
       "      <td>1</td>\n",
       "    </tr>\n",
       "    <tr>\n",
       "      <th>...</th>\n",
       "      <td>...</td>\n",
       "      <td>...</td>\n",
       "      <td>...</td>\n",
       "    </tr>\n",
       "    <tr>\n",
       "      <th>233</th>\n",
       "      <td>US</td>\n",
       "      <td>Washington</td>\n",
       "      <td>668</td>\n",
       "    </tr>\n",
       "    <tr>\n",
       "      <th>217</th>\n",
       "      <td>US</td>\n",
       "      <td>California</td>\n",
       "      <td>2792</td>\n",
       "    </tr>\n",
       "  </tbody>\n",
       "</table>\n",
       "<p>238 rows × 3 columns</p>\n",
       "</div>"
      ],
      "text/plain": [
       "     country    province   len\n",
       "237  Uruguay     Uruguay     1\n",
       "61   Croatia     Korčula     1\n",
       "..       ...         ...   ...\n",
       "233       US  Washington   668\n",
       "217       US  California  2792\n",
       "\n",
       "[238 rows x 3 columns]"
      ]
     },
     "execution_count": 121,
     "metadata": {},
     "output_type": "execute_result"
    }
   ],
   "source": [
    "countries_reviewed = countries_reviewed.reset_index()\n",
    "countries_reviewed.sort_values(by='len')"
   ]
  },
  {
   "cell_type": "code",
   "execution_count": 122,
   "metadata": {},
   "outputs": [
    {
     "data": {
      "text/html": [
       "<div>\n",
       "<style scoped>\n",
       "    .dataframe tbody tr th:only-of-type {\n",
       "        vertical-align: middle;\n",
       "    }\n",
       "\n",
       "    .dataframe tbody tr th {\n",
       "        vertical-align: top;\n",
       "    }\n",
       "\n",
       "    .dataframe thead th {\n",
       "        text-align: right;\n",
       "    }\n",
       "</style>\n",
       "<table border=\"1\" class=\"dataframe\">\n",
       "  <thead>\n",
       "    <tr style=\"text-align: right;\">\n",
       "      <th></th>\n",
       "      <th>country</th>\n",
       "      <th>province</th>\n",
       "      <th>len</th>\n",
       "    </tr>\n",
       "  </thead>\n",
       "  <tbody>\n",
       "    <tr>\n",
       "      <th>217</th>\n",
       "      <td>US</td>\n",
       "      <td>California</td>\n",
       "      <td>2792</td>\n",
       "    </tr>\n",
       "    <tr>\n",
       "      <th>233</th>\n",
       "      <td>US</td>\n",
       "      <td>Washington</td>\n",
       "      <td>668</td>\n",
       "    </tr>\n",
       "    <tr>\n",
       "      <th>...</th>\n",
       "      <td>...</td>\n",
       "      <td>...</td>\n",
       "      <td>...</td>\n",
       "    </tr>\n",
       "    <tr>\n",
       "      <th>120</th>\n",
       "      <td>Italy</td>\n",
       "      <td>Northwestern Italy</td>\n",
       "      <td>1</td>\n",
       "    </tr>\n",
       "    <tr>\n",
       "      <th>237</th>\n",
       "      <td>Uruguay</td>\n",
       "      <td>Uruguay</td>\n",
       "      <td>1</td>\n",
       "    </tr>\n",
       "  </tbody>\n",
       "</table>\n",
       "<p>238 rows × 3 columns</p>\n",
       "</div>"
      ],
      "text/plain": [
       "     country            province   len\n",
       "217       US          California  2792\n",
       "233       US          Washington   668\n",
       "..       ...                 ...   ...\n",
       "120    Italy  Northwestern Italy     1\n",
       "237  Uruguay             Uruguay     1\n",
       "\n",
       "[238 rows x 3 columns]"
      ]
     },
     "execution_count": 122,
     "metadata": {},
     "output_type": "execute_result"
    }
   ],
   "source": [
    "countries_reviewed.sort_values(by='len', ascending=False)"
   ]
  },
  {
   "cell_type": "code",
   "execution_count": 123,
   "metadata": {},
   "outputs": [
    {
     "data": {
      "text/html": [
       "<div>\n",
       "<style scoped>\n",
       "    .dataframe tbody tr th:only-of-type {\n",
       "        vertical-align: middle;\n",
       "    }\n",
       "\n",
       "    .dataframe tbody tr th {\n",
       "        vertical-align: top;\n",
       "    }\n",
       "\n",
       "    .dataframe thead th {\n",
       "        text-align: right;\n",
       "    }\n",
       "</style>\n",
       "<table border=\"1\" class=\"dataframe\">\n",
       "  <thead>\n",
       "    <tr style=\"text-align: right;\">\n",
       "      <th></th>\n",
       "      <th>country</th>\n",
       "      <th>province</th>\n",
       "      <th>len</th>\n",
       "    </tr>\n",
       "  </thead>\n",
       "  <tbody>\n",
       "    <tr>\n",
       "      <th>0</th>\n",
       "      <td>Argentina</td>\n",
       "      <td>Mendoza Province</td>\n",
       "      <td>273</td>\n",
       "    </tr>\n",
       "    <tr>\n",
       "      <th>1</th>\n",
       "      <td>Argentina</td>\n",
       "      <td>Other</td>\n",
       "      <td>43</td>\n",
       "    </tr>\n",
       "    <tr>\n",
       "      <th>...</th>\n",
       "      <td>...</td>\n",
       "      <td>...</td>\n",
       "      <td>...</td>\n",
       "    </tr>\n",
       "    <tr>\n",
       "      <th>236</th>\n",
       "      <td>Uruguay</td>\n",
       "      <td>Juanico</td>\n",
       "      <td>1</td>\n",
       "    </tr>\n",
       "    <tr>\n",
       "      <th>237</th>\n",
       "      <td>Uruguay</td>\n",
       "      <td>Uruguay</td>\n",
       "      <td>1</td>\n",
       "    </tr>\n",
       "  </tbody>\n",
       "</table>\n",
       "<p>238 rows × 3 columns</p>\n",
       "</div>"
      ],
      "text/plain": [
       "       country          province  len\n",
       "0    Argentina  Mendoza Province  273\n",
       "1    Argentina             Other   43\n",
       "..         ...               ...  ...\n",
       "236    Uruguay           Juanico    1\n",
       "237    Uruguay           Uruguay    1\n",
       "\n",
       "[238 rows x 3 columns]"
      ]
     },
     "execution_count": 123,
     "metadata": {},
     "output_type": "execute_result"
    }
   ],
   "source": [
    "countries_reviewed.sort_index()"
   ]
  },
  {
   "cell_type": "code",
   "execution_count": 124,
   "metadata": {},
   "outputs": [
    {
     "data": {
      "text/html": [
       "<div>\n",
       "<style scoped>\n",
       "    .dataframe tbody tr th:only-of-type {\n",
       "        vertical-align: middle;\n",
       "    }\n",
       "\n",
       "    .dataframe tbody tr th {\n",
       "        vertical-align: top;\n",
       "    }\n",
       "\n",
       "    .dataframe thead th {\n",
       "        text-align: right;\n",
       "    }\n",
       "</style>\n",
       "<table border=\"1\" class=\"dataframe\">\n",
       "  <thead>\n",
       "    <tr style=\"text-align: right;\">\n",
       "      <th></th>\n",
       "      <th>country</th>\n",
       "      <th>province</th>\n",
       "      <th>len</th>\n",
       "    </tr>\n",
       "  </thead>\n",
       "  <tbody>\n",
       "    <tr>\n",
       "      <th>1</th>\n",
       "      <td>Argentina</td>\n",
       "      <td>Other</td>\n",
       "      <td>43</td>\n",
       "    </tr>\n",
       "    <tr>\n",
       "      <th>0</th>\n",
       "      <td>Argentina</td>\n",
       "      <td>Mendoza Province</td>\n",
       "      <td>273</td>\n",
       "    </tr>\n",
       "    <tr>\n",
       "      <th>...</th>\n",
       "      <td>...</td>\n",
       "      <td>...</td>\n",
       "      <td>...</td>\n",
       "    </tr>\n",
       "    <tr>\n",
       "      <th>237</th>\n",
       "      <td>Uruguay</td>\n",
       "      <td>Uruguay</td>\n",
       "      <td>1</td>\n",
       "    </tr>\n",
       "    <tr>\n",
       "      <th>235</th>\n",
       "      <td>Uruguay</td>\n",
       "      <td>Canelones</td>\n",
       "      <td>2</td>\n",
       "    </tr>\n",
       "  </tbody>\n",
       "</table>\n",
       "<p>238 rows × 3 columns</p>\n",
       "</div>"
      ],
      "text/plain": [
       "       country          province  len\n",
       "1    Argentina             Other   43\n",
       "0    Argentina  Mendoza Province  273\n",
       "..         ...               ...  ...\n",
       "237    Uruguay           Uruguay    1\n",
       "235    Uruguay         Canelones    2\n",
       "\n",
       "[238 rows x 3 columns]"
      ]
     },
     "execution_count": 124,
     "metadata": {},
     "output_type": "execute_result"
    }
   ],
   "source": [
    "countries_reviewed.sort_values(by=['country', 'len'])"
   ]
  },
  {
   "cell_type": "markdown",
   "metadata": {},
   "source": []
  },
  {
   "cell_type": "code",
   "execution_count": null,
   "metadata": {},
   "outputs": [],
   "source": []
  }
 ],
 "metadata": {
  "kernelspec": {
   "display_name": "base",
   "language": "python",
   "name": "python3"
  },
  "language_info": {
   "codemirror_mode": {
    "name": "ipython",
    "version": 3
   },
   "file_extension": ".py",
   "mimetype": "text/x-python",
   "name": "python",
   "nbconvert_exporter": "python",
   "pygments_lexer": "ipython3",
   "version": "3.8.3"
  },
  "orig_nbformat": 4,
  "vscode": {
   "interpreter": {
    "hash": "6b9b963872eec2b7e8ca0502d1ea1155c51a2f7935b2e860109232822e0fe34f"
   }
  }
 },
 "nbformat": 4,
 "nbformat_minor": 2
}
