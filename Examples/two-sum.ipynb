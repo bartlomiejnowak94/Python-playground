{
 "cells": [
  {
   "cell_type": "code",
   "execution_count": 1,
   "metadata": {},
   "outputs": [
    {
     "name": "stdout",
     "output_type": "stream",
     "text": [
      "6 3\n"
     ]
    }
   ],
   "source": [
    "suma = 9\n",
    "lista = [1,3,5,6,11,23]\n",
    "\n",
    "def sumdoub(suma,lista):\n",
    "    suma_check = lista[0]\n",
    "    for j in lista:\n",
    "        for i in lista:\n",
    "            suma_check = j\n",
    "            suma_check += i\n",
    "            if suma_check == suma:\n",
    "                print(i, j)\n",
    "                break\n",
    "        else:\n",
    "            continue\n",
    "        break\n",
    "\n",
    "sumdoub(suma,lista)"
   ]
  },
  {
   "cell_type": "code",
   "execution_count": null,
   "metadata": {},
   "outputs": [],
   "source": []
  }
 ],
 "metadata": {
  "kernelspec": {
   "display_name": "base",
   "language": "python",
   "name": "python3"
  },
  "language_info": {
   "codemirror_mode": {
    "name": "ipython",
    "version": 3
   },
   "file_extension": ".py",
   "mimetype": "text/x-python",
   "name": "python",
   "nbconvert_exporter": "python",
   "pygments_lexer": "ipython3",
   "version": "3.8.3 (default, Jul  2 2020, 17:30:36) [MSC v.1916 64 bit (AMD64)]"
  },
  "orig_nbformat": 4,
  "vscode": {
   "interpreter": {
    "hash": "6b9b963872eec2b7e8ca0502d1ea1155c51a2f7935b2e860109232822e0fe34f"
   }
  }
 },
 "nbformat": 4,
 "nbformat_minor": 2
}
